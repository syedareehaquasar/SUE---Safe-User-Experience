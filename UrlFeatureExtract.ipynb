{
  "nbformat": 4,
  "nbformat_minor": 0,
  "metadata": {
    "colab": {
      "name": "UrlFeatureExtract.ipynb",
      "provenance": [],
      "collapsed_sections": [],
      "mount_file_id": "1uUPkzUr55Kdxxdk8oYENol4-8V-8LISd",
      "authorship_tag": "ABX9TyPQlx201dRgoIWykYEADBp2",
      "include_colab_link": true
    },
    "kernelspec": {
      "name": "python3",
      "display_name": "Python 3"
    }
  },
  "cells": [
    {
      "cell_type": "markdown",
      "metadata": {
        "id": "view-in-github",
        "colab_type": "text"
      },
      "source": [
        "<a href=\"https://colab.research.google.com/github/syedareehaquasar/SUE---Safe-User-Experience/blob/master/UrlFeatureExtract.ipynb\" target=\"_parent\"><img src=\"https://colab.research.google.com/assets/colab-badge.svg\" alt=\"Open In Colab\"/></a>"
      ]
    },
    {
      "cell_type": "markdown",
      "metadata": {
        "id": "5pq2qWZgjPu1",
        "colab_type": "text"
      },
      "source": [
        "# Loading saved model"
      ]
    },
    {
      "cell_type": "code",
      "metadata": {
        "id": "5ySh-qiRSye_",
        "colab_type": "code",
        "colab": {
          "base_uri": "https://localhost:8080/",
          "height": 134
        },
        "outputId": "73ae24c1-cd28-4ace-a7be-3c53a1341439"
      },
      "source": [
        "import pickle\n",
        "\n",
        "# load model from file\n",
        "loaded_model = pickle.load(open(\"/content/drive/My Drive/SUE/XGBoostClassifier.pkl\", \"rb\"))\n",
        "loaded_model"
      ],
      "execution_count": 1,
      "outputs": [
        {
          "output_type": "execute_result",
          "data": {
            "text/plain": [
              "XGBClassifier(base_score=0.5, booster='gbtree', colsample_bylevel=1,\n",
              "              colsample_bynode=1, colsample_bytree=1, gamma=0,\n",
              "              learning_rate=0.4, max_delta_step=0, max_depth=7,\n",
              "              min_child_weight=1, missing=nan, n_estimators=100, n_jobs=1,\n",
              "              nthread=None, objective='binary:logistic', random_state=0,\n",
              "              reg_alpha=0, reg_lambda=1, scale_pos_weight=1, seed=None,\n",
              "              silent=None, subsample=1, verbosity=1)"
            ]
          },
          "metadata": {
            "tags": []
          },
          "execution_count": 1
        }
      ]
    },
    {
      "cell_type": "markdown",
      "metadata": {
        "id": "7ih4GKj0DaYD",
        "colab_type": "text"
      },
      "source": [
        "# Feature Extraction"
      ]
    },
    {
      "cell_type": "markdown",
      "metadata": {
        "id": "Svd6E780swM3",
        "colab_type": "text"
      },
      "source": [
        "## Importing packages required"
      ]
    },
    {
      "cell_type": "code",
      "metadata": {
        "id": "Ag4Jp-HeDgAg",
        "colab_type": "code",
        "colab": {
          "base_uri": "https://localhost:8080/",
          "height": 238
        },
        "outputId": "d223148f-b8d7-43ca-d035-52c6ead102cb"
      },
      "source": [
        "import sys\n",
        "import csv\n",
        "import pandas as pd\n",
        "import regex\n",
        "#provides the capabilities to create, manipulate and operate on IPv4 and IPv6 addresses and networks.\n",
        "#used for extracting having_ip_address feature \n",
        "import ipaddress \n",
        "#!pip install 2to3\n",
        "#import 2to3\n",
        "!pip install tldextract\n",
        "from tldextract import extract\n",
        "import ssl\n",
        "\n",
        "!pip install urllib\n",
        "import urllib\n",
        "import xml.etree.ElementTree as ET\n",
        "from bs4 import BeautifulSoup\n",
        "import bs4, re\n",
        "#!pip install google-search\n",
        "#from googlesearch.googlesearch import GoogleSearch\n",
        "!pip install python-whois\n",
        "import whois\n",
        "from datetime import datetime\n",
        "import time\n",
        "import requests\n",
        "import urllib.request\n",
        "from urllib.parse import urlencode\n",
        "import subprocess\n",
        "import urllib3, requests, json\n",
        "import socket "
      ],
      "execution_count": 2,
      "outputs": [
        {
          "output_type": "stream",
          "text": [
            "Requirement already satisfied: tldextract in /usr/local/lib/python3.6/dist-packages (2.2.3)\n",
            "Requirement already satisfied: requests>=2.1.0 in /usr/local/lib/python3.6/dist-packages (from tldextract) (2.23.0)\n",
            "Requirement already satisfied: requests-file>=1.4 in /usr/local/lib/python3.6/dist-packages (from tldextract) (1.5.1)\n",
            "Requirement already satisfied: idna in /usr/local/lib/python3.6/dist-packages (from tldextract) (2.10)\n",
            "Requirement already satisfied: chardet<4,>=3.0.2 in /usr/local/lib/python3.6/dist-packages (from requests>=2.1.0->tldextract) (3.0.4)\n",
            "Requirement already satisfied: certifi>=2017.4.17 in /usr/local/lib/python3.6/dist-packages (from requests>=2.1.0->tldextract) (2020.6.20)\n",
            "Requirement already satisfied: urllib3!=1.25.0,!=1.25.1,<1.26,>=1.21.1 in /usr/local/lib/python3.6/dist-packages (from requests>=2.1.0->tldextract) (1.24.3)\n",
            "Requirement already satisfied: six in /usr/local/lib/python3.6/dist-packages (from requests-file>=1.4->tldextract) (1.15.0)\n",
            "\u001b[31mERROR: Could not find a version that satisfies the requirement urllib (from versions: none)\u001b[0m\n",
            "\u001b[31mERROR: No matching distribution found for urllib\u001b[0m\n",
            "Requirement already satisfied: python-whois in /usr/local/lib/python3.6/dist-packages (0.7.3)\n",
            "Requirement already satisfied: future in /usr/local/lib/python3.6/dist-packages (from python-whois) (0.16.0)\n"
          ],
          "name": "stdout"
        }
      ]
    },
    {
      "cell_type": "code",
      "metadata": {
        "id": "Zad9R1a6Dqa3",
        "colab_type": "code",
        "colab": {}
      },
      "source": [
        "def having_IPhaving_IP_Address(url):\n",
        "    try:\n",
        "        ipaddress.ip_address(url)\n",
        "        return -1\n",
        "    except:\n",
        "        return 1\n",
        "# having_IPhaving_IP_Address(\"www.google.com\")"
      ],
      "execution_count": 3,
      "outputs": []
    },
    {
      "cell_type": "code",
      "metadata": {
        "id": "cqr0s8H2Dxxw",
        "colab_type": "code",
        "colab": {}
      },
      "source": [
        "def URLURL_Length(url):\n",
        "    if (len(url) < 54) :\n",
        "        return 1\n",
        "    elif (len(url) < 75):\n",
        "      return 0\n",
        "    else:\n",
        "        return -1\n",
        "# URLURL_Length(\"hjvscsdavjavcjh\")"
      ],
      "execution_count": 91,
      "outputs": []
    },
    {
      "cell_type": "code",
      "metadata": {
        "id": "V2z1fuo3D0jU",
        "colab_type": "code",
        "colab": {}
      },
      "source": [
        "def Shortining_Service(url):\n",
        "    shortining = regex.search('bit\\.ly|goo\\.gl|shorte\\.st|go2l\\.ink|x\\.co|ow\\.ly|t\\.co|tinyurl|tr\\.im|is\\.gd|cli\\.gs|'\n",
        "                    'yfrog\\.com|migre\\.me|ff\\.im|tiny\\.cc|url4\\.eu|twit\\.ac|su\\.pr|twurl\\.nl|snipurl\\.com|'\n",
        "                    'short\\.to|BudURL\\.com|ping\\.fm|post\\.ly|Just\\.as|bkite\\.com|snipr\\.com|fic\\.kr|loopt\\.us|'\n",
        "                    'doiop\\.com|short\\.ie|kl\\.am|wp\\.me|rubyurl\\.com|om\\.ly|to\\.ly|bit\\.do|t\\.co|lnkd\\.in|'\n",
        "                    'db\\.tt|qr\\.ae|adf\\.ly|goo\\.gl|bitly\\.com|cur\\.lv|tinyurl\\.com|ow\\.ly|bit\\.ly|ity\\.im|'\n",
        "                    'q\\.gs|is\\.gd|po\\.st|bc\\.vc|twitthis\\.com|u\\.to|j\\.mp|buzurl\\.com|cutt\\.us|u\\.bb|yourls\\.org|'\n",
        "                    'x\\.co|prettylinkpro\\.com|scrnch\\.me|filoops\\.info|vzturl\\.com|qr\\.net|1url\\.com|tweez\\.me|v\\.gd|tr\\.im|link\\.zip\\.net', url)\n",
        "    if shortining:\n",
        "        return -1\n",
        "    else:\n",
        "        return 1\n",
        "# Shortining_Service(\"www.rgsdfgad\")"
      ],
      "execution_count": 5,
      "outputs": []
    },
    {
      "cell_type": "code",
      "metadata": {
        "id": "8VHY6e1dD6JI",
        "colab_type": "code",
        "colab": {}
      },
      "source": [
        "def having_At_Symbol(url):\n",
        "    at_symbol = regex.findall(r'@',url)\n",
        "    if(len(at_symbol) == 0): #if @ symbol is not in url then its safe\n",
        "        return 1\n",
        "    else:\n",
        "        return -1\n",
        "# having_At_Symbol(\"www.goog@le.com\")"
      ],
      "execution_count": 6,
      "outputs": []
    },
    {
      "cell_type": "code",
      "metadata": {
        "id": "ZFwxeGI6D9eB",
        "colab_type": "code",
        "colab": {}
      },
      "source": [
        "def double_slash_redirecting(url):\n",
        "    locate_double_slash = [x.start(0) for x in re.finditer('//', url)] #making list of each individual character\n",
        "    if locate_double_slash[len(locate_double_slash)-1] > 6: #checking if // occures after 6th position\n",
        "        return -1\n",
        "    else:\n",
        "        return 1\n",
        "\n",
        "# double_slash_redirecting(\"http//:vshdhjkjhds\")"
      ],
      "execution_count": 7,
      "outputs": []
    },
    {
      "cell_type": "code",
      "metadata": {
        "id": "WHg0pVWOD_Cr",
        "colab_type": "code",
        "colab": {}
      },
      "source": [
        "def Prefix_Suffix(domain):\n",
        "    if('-' in domain):\n",
        "        return -1\n",
        "    else:\n",
        "        return 1\n",
        "        \n",
        "# Prefix_Suffix(\"gitlab-kk\")"
      ],
      "execution_count": 8,
      "outputs": []
    },
    {
      "cell_type": "code",
      "metadata": {
        "id": "2MPDnIatEBvY",
        "colab_type": "code",
        "colab": {}
      },
      "source": [
        "def having_Sub_Domain(hostname):\n",
        "    if len(re.findall(\"\\.\", hostname)) == 0:\n",
        "        return 1\n",
        "    elif len(re.findall(\"\\.\", hostname)) == 1:\n",
        "        return 0\n",
        "    else:\n",
        "        return -1\n",
        "\n",
        "# having_Sub_Domain(\"google\")"
      ],
      "execution_count": 9,
      "outputs": []
    },
    {
      "cell_type": "code",
      "metadata": {
        "id": "4W9bOqVGEEWD",
        "colab_type": "code",
        "colab": {}
      },
      "source": [
        "def SSLfinal_State(url):\n",
        "    try:\n",
        "      # check wheather contains https\n",
        "      if (regex.search('^https', url)):\n",
        "        usehttps = 1\n",
        "      else:\n",
        "        usehttps = 0\n",
        "      subDomain, domain, suffix = extract(url)\n",
        "      host_name = domain + \".\" + suffix\n",
        "      context = ssl.create_default_context()\n",
        "      sct = context.wrap_socket(socket.socket(), server_hostname=host_name)\n",
        "      sct.connect((host_name, 443))\n",
        "      certificate = sct.getpeercert()\n",
        "      issuer = dict(x[0] for x in certificate['issuer'])\n",
        "      certificate_Auth = str(issuer['commonName'])\n",
        "      certificate_Auth = certificate_Auth.split()\n",
        "      if (certificate_Auth[0] == \"Network\" or certificate_Auth == \"Deutsche\"):\n",
        "          certificate_Auth = certificate_Auth[0] + \" \" + certificate_Auth[1]\n",
        "      else:\n",
        "          certificate_Auth = certificate_Auth[0]\n",
        "      trusted_Auth = ['AC Camerfirma, S.A', 'Actalis', 'Agencia Notarial de Certificación (ANCERT)', \"ANCERT\",  'Amazon', 'Asseco Data Systems S.A. (previously Unizeto Certum)', \"Unizeto Certum\", 'Comodo', 'Symantec', 'GoDaddy', 'GlobalSign', 'DigiCert', 'StartCom', 'Entrust', 'Verizon',\n",
        "                        'A-Trust','Trustwave', 'Unizeto', 'Buypass', 'QuoVadis', 'Deutsche Telekom', 'Network Solutions', ''\n",
        "                        'SwissSign', 'Google Trust Services (GTS)', \"GTS\", 'Government of Australia' ,'IdenTrust', 'Secom', 'TWCA', 'GeoTrust', 'Thawte', 'Doster', 'VeriSign', 'Google',\n",
        "                        'Government of India, Ministry of Communications & Information Technology, Controller of Certifying Authorities (CCA)', \"CCA\", \n",
        "                        'Symantec', 'VeriSign', 'Sectigo', 'Let\\'s', 'Network Solutions','cPanel', 'Cloudflare', 'DigiCert']\n",
        "\n",
        "      startingDate = str(certificate['notBefore'])\n",
        "      endingDate = str(certificate['notAfter'])\n",
        "      startingYear = int(startingDate.split()[3])\n",
        "      endingYear = int(endingDate.split()[3])\n",
        "      Age_of_certificate = endingYear - startingYear\n",
        "      if ((usehttps == 1) and (certificate_Auth in trusted_Auth) and (Age_of_certificate <= 1)):\n",
        "        return 1  # legitimate\n",
        "      else:\n",
        "        return -1  # phishing\n",
        "\n",
        "    except:\n",
        "        return -1\n",
        "\n",
        "# SSLfinal_State(\"www.google.com\")\n",
        "# SSLfinal_State(\"https://www.youtube.com/\")\n",
        "# SSLfinal_State(\"http://www.Confirme-paypal.com/\")"
      ],
      "execution_count": 101,
      "outputs": []
    },
    {
      "cell_type": "code",
      "metadata": {
        "id": "6_om8F99ELA0",
        "colab_type": "code",
        "colab": {
          "base_uri": "https://localhost:8080/",
          "height": 34
        },
        "outputId": "39ba6921-b767-479f-ce11-fabd9b4c1a9e"
      },
      "source": [
        "def Domain_registration_length(url):\n",
        "  try:\n",
        "    whois_database = whois.whois(url)\n",
        "    updated_datetime = whois_database.updated_date\n",
        "    # print(updated_datetime)\n",
        "    exp_datetime = whois_database.expiration_date\n",
        "    # print(exp_datetime)\n",
        "    length_period = (exp_datetime[0]-updated_datetime[0]).days\n",
        "    # print(length_period)\n",
        "    if (length_period <= 365):\n",
        "      return -1\n",
        "    else:\n",
        "      return 1\n",
        "  except:\n",
        "        return 0\n",
        "# Domain_registration_length(\"https://colab.research.google.com/drive/1uUPkzUr55Kdxxdk8oYENol4-8V-8LISd#scrollTo=6_om8F99ELA0\")"
      ],
      "execution_count": 47,
      "outputs": [
        {
          "output_type": "execute_result",
          "data": {
            "text/plain": [
              "1"
            ]
          },
          "metadata": {
            "tags": []
          },
          "execution_count": 47
        }
      ]
    },
    {
      "cell_type": "code",
      "metadata": {
        "id": "eXc9_748bTcE",
        "colab_type": "code",
        "colab": {}
      },
      "source": [
        "def soupssss(url):\n",
        "  response = requests.get(url)\n",
        "  soup = BeautifulSoup(response.text, 'html.parser')\n",
        "  return soup"
      ],
      "execution_count": 48,
      "outputs": []
    },
    {
      "cell_type": "code",
      "metadata": {
        "id": "ha0SqpD7EM5I",
        "colab_type": "code",
        "colab": {
          "base_uri": "https://localhost:8080/",
          "height": 34
        },
        "outputId": "71beb520-d6b4-4326-b8fa-2e8b035150ab"
      },
      "source": [
        "def favicon(url, soup):\n",
        "  try:\n",
        "    for head in soup.find_all('head'):\n",
        "      for head.link in soup.find_all('link', href=True):\n",
        "        dots = [x.start(0) for x in re.finditer('\\.', head.link['href'])]\n",
        "        if url in head.link['href'] or len(dots) == 1 or domain in head.link['href']:\n",
        "          return 1\n",
        "    return -1\n",
        "  except:\n",
        "    return 1\n",
        "\n",
        "favicon(\"https://gitlab.com/syedareehaquasar/tswe-project\", soupssss(\"https://gitlab.com/syedareehaquasar/tswe-project\"))"
      ],
      "execution_count": 49,
      "outputs": [
        {
          "output_type": "execute_result",
          "data": {
            "text/plain": [
              "1"
            ]
          },
          "metadata": {
            "tags": []
          },
          "execution_count": 49
        }
      ]
    },
    {
      "cell_type": "code",
      "metadata": {
        "id": "THZgpHPTEQTI",
        "colab_type": "code",
        "colab": {}
      },
      "source": [
        "def port(url, domain):\n",
        "    try:\n",
        "        port = domain.split(\":\")[1]\n",
        "        if port:\n",
        "            return -1\n",
        "        else:\n",
        "            return 1\n",
        "    except:\n",
        "        return 1"
      ],
      "execution_count": 14,
      "outputs": []
    },
    {
      "cell_type": "code",
      "metadata": {
        "id": "5Ar52IUbESjc",
        "colab_type": "code",
        "colab": {}
      },
      "source": [
        "def HTTPS_token(url):\n",
        "  # if re.findall(r\"^https://\", url):\n",
        "  #   return 1\n",
        "  # return -1\n",
        "    check = re.search('https://|http://', url)\n",
        "    if check:\n",
        "      return 1\n",
        "    check = re.search('http|https', url)\n",
        "    if check:\n",
        "        return -1\n",
        "    else:\n",
        "        return 1\n",
        "# HTTPS_token(\"www.google.com\")"
      ],
      "execution_count": 72,
      "outputs": []
    },
    {
      "cell_type": "code",
      "metadata": {
        "id": "AbIXkaWnEUv7",
        "colab_type": "code",
        "colab": {}
      },
      "source": [
        "def Request_url(url, soup, domain):\n",
        "    i = 0\n",
        "    success = 0\n",
        "    if soup == -999:\n",
        "        return -1\n",
        "    else:\n",
        "        for img in soup.find_all('img', src= True):\n",
        "           dots= [x.start(0) for x in re.finditer('\\.', img['src'])]\n",
        "           if url in img['src'] or domain in img['src'] or len(dots)==1:\n",
        "              success = success + 1\n",
        "           i=i+1\n",
        "\n",
        "        for audio in soup.find_all('audio', src= True):\n",
        "           dots = [x.start(0) for x in re.finditer('\\.', audio['src'])]\n",
        "           if url in audio['src'] or domain in audio['src'] or len(dots)==1:\n",
        "              success = success + 1\n",
        "           i=i+1\n",
        "\n",
        "        for embed in soup.find_all('embed', src= True):\n",
        "           dots=[x.start(0) for x in re.finditer('\\.',embed['src'])]\n",
        "           if url in embed['src'] or domain in embed['src'] or len(dots)==1:\n",
        "              success = success + 1\n",
        "           i=i+1\n",
        "\n",
        "        for iframe in soup.find_all('iframe', src= True):\n",
        "           dots=[x.start(0) for x in re.finditer('\\.',iframe['src'])]\n",
        "           if url in iframe['src'] or domain in iframe['src'] or len(dots)==1:\n",
        "              success = success + 1\n",
        "           i=i+1\n",
        "\n",
        "        try:\n",
        "           percentage = success/float(i) * 100\n",
        "           if percentage < 22.0 :\n",
        "              return 1\n",
        "           elif((percentage >= 22.0) and (percentage < 61.0)) :\n",
        "              return 0\n",
        "           else :\n",
        "              return -1\n",
        "        except:\n",
        "            return 1"
      ],
      "execution_count": 16,
      "outputs": []
    },
    {
      "cell_type": "code",
      "metadata": {
        "id": "jAQI2RbiEWvw",
        "colab_type": "code",
        "colab": {}
      },
      "source": [
        "def Url_of_Anchor(url, soup, domain):\n",
        "    return 0\n",
        "    percentage = 0\n",
        "    i = 0\n",
        "    unsafe = 0\n",
        "    if soup == -999:\n",
        "        return -1\n",
        "    else:\n",
        "        for a in soup.find_all('a', href=True):\n",
        "        # 2nd condition was 'JavaScript ::void(0)' but we put JavaScript because the space between javascript and :: might not be\n",
        "                # there in the actual a['href']\n",
        "            if \"#\" in a['href'] or \"javascript\" in a['href'].lower() or \"mailto\" in a['href'].lower() or not (url in a['href'] or domain in a['href']):\n",
        "                unsafe = unsafe + 1\n",
        "            i = i + 1\n",
        "\n",
        "\n",
        "        try:\n",
        "            percentage = unsafe / float(i) * 100\n",
        "        except:\n",
        "            return 1\n",
        "\n",
        "        if percentage < 31.0:\n",
        "            return 1\n",
        "        elif ((percentage >= 31.0) and (percentage < 67.0)):\n",
        "            return 0\n",
        "        else:\n",
        "            return -1"
      ],
      "execution_count": 108,
      "outputs": []
    },
    {
      "cell_type": "code",
      "metadata": {
        "id": "Pp6JSCNREY3C",
        "colab_type": "code",
        "colab": {}
      },
      "source": [
        "def Links_in_tags(url, soup, domain):\n",
        "  good = 0\n",
        "  bad =0\n",
        "  for link in soup.find_all('link', href= True):\n",
        "    count =[x.start(0) for x in re.finditer('\\.',link['href'])]\n",
        "    if url in link['href'] or domain in link['href'] or len(count) == 1:\n",
        "      bad += 1\n",
        "    good += 1\n",
        "\n",
        "  for script in soup.find_all('script', src= True):\n",
        "    count =[x.start(0) for x in re.finditer('\\.',script['src'])]\n",
        "    if url in script['src'] or domain in script['src'] or len(count) == 1 :\n",
        "      bad += 1\n",
        "    good += 1\n",
        "\n",
        "  try:\n",
        "    percentage = bad / float(good) * 100\n",
        "    if percentage < 17.0 :\n",
        "      return 1\n",
        "    elif((percentage >= 17.0) and (percentage < 81.0)) :\n",
        "      return 0\n",
        "    else :\n",
        "      return -1\n",
        "\n",
        "  except:\n",
        "    return 1"
      ],
      "execution_count": 81,
      "outputs": []
    },
    {
      "cell_type": "code",
      "metadata": {
        "id": "68fHTGZfEbPT",
        "colab_type": "code",
        "colab": {}
      },
      "source": [
        "def SFH(url, soup):\n",
        "    try:\n",
        "      for form in soup.find_all('form', action= True):\n",
        "        if form['action'] ==\"\" or form['action'] == \"about:blank\" :\n",
        "          return -1\n",
        "        elif url not in form['action'] and domain not in form['action']:\n",
        "          return 0\n",
        "        else:\n",
        "          return 1\n",
        "      return 1\n",
        "                 \n",
        "    except:\n",
        "        return -1"
      ],
      "execution_count": 19,
      "outputs": []
    },
    {
      "cell_type": "code",
      "metadata": {
        "id": "3DmnY73OEdOS",
        "colab_type": "code",
        "colab": {}
      },
      "source": [
        "def Submitting_to_email(response):\n",
        "    if response == \"\":\n",
        "        return -1\n",
        "    else:\n",
        "        if re.findall(r\"[mail\\(\\)|mailto:?]\", response.text):\n",
        "            return -1\n",
        "        else:\n",
        "            return 1"
      ],
      "execution_count": 20,
      "outputs": []
    },
    {
      "cell_type": "code",
      "metadata": {
        "id": "BQUGjJKwEfOJ",
        "colab_type": "code",
        "colab": {}
      },
      "source": [
        "#.\n",
        "def Abnormal_URL(response):\n",
        "    if response == \"\":\n",
        "        return -1\n",
        "    else:\n",
        "        if response.text == \"\":\n",
        "            return -1\n",
        "        else:\n",
        "            return 1       "
      ],
      "execution_count": 21,
      "outputs": []
    },
    {
      "cell_type": "code",
      "metadata": {
        "id": "q103K_4HEh8n",
        "colab_type": "code",
        "colab": {}
      },
      "source": [
        "def Redirect(response):\n",
        "  if len(response.history) <= 1:\n",
        "    return 1\n",
        "  else:\n",
        "    return 0"
      ],
      "execution_count": 22,
      "outputs": []
    },
    {
      "cell_type": "code",
      "metadata": {
        "id": "Ntst5c5sEj-k",
        "colab_type": "code",
        "colab": {}
      },
      "source": [
        "def on_mouseover(response):\n",
        "  if re.findall(\"<script>.+onmouseover.+</script>\", response.text):\n",
        "    return -1\n",
        "  else:\n",
        "    return 1"
      ],
      "execution_count": 23,
      "outputs": []
    },
    {
      "cell_type": "code",
      "metadata": {
        "id": "XUJCULyfEl3y",
        "colab_type": "code",
        "colab": {}
      },
      "source": [
        "def RightClick(response):\n",
        "  if re.findall(r\"event.button ?== ?2\", response.text):\n",
        "    return -1\n",
        "  else:\n",
        "    return 1"
      ],
      "execution_count": 24,
      "outputs": []
    },
    {
      "cell_type": "code",
      "metadata": {
        "id": "p2pUFMnoEoIM",
        "colab_type": "code",
        "colab": {}
      },
      "source": [
        "def popUpWindow(response):\n",
        "  if re.findall(r\"alert\\(\", response.text):\n",
        "    return -1\n",
        "  else:\n",
        "    return 1"
      ],
      "execution_count": 25,
      "outputs": []
    },
    {
      "cell_type": "code",
      "metadata": {
        "id": "Xm4v66HyEp-G",
        "colab_type": "code",
        "colab": {}
      },
      "source": [
        "def Iframe(response):\n",
        "  if re.findall(r\"[<iframe>|<frameBorder>]\", response.text):\n",
        "    return -1\n",
        "  else:\n",
        "    return 1        "
      ],
      "execution_count": 26,
      "outputs": []
    },
    {
      "cell_type": "code",
      "metadata": {
        "id": "r_lHmlrMErnV",
        "colab_type": "code",
        "colab": {}
      },
      "source": [
        "def age_of_domain(url):\n",
        "    try:\n",
        "        domain_name = whois.whois(url)\n",
        "        if isinstance(domain_name.creation_date, list):\n",
        "            creation_date = domain_name.creation_date[0]\n",
        "        else:\n",
        "            creation_date = domain_name.creation_date\n",
        "\n",
        "        creation_date = str(creation_date).split(' ')[0]\n",
        "\n",
        "        if isinstance(domain_name.expiration_date, list):\n",
        "            expiration_date = domain_name.expiration_date[0]\n",
        "        else:\n",
        "            expiration_date = domain_name.expiration_date\n",
        "\n",
        "        expiration_date = str(expiration_date).split(' ')[0]\n",
        "\n",
        "\n",
        "        creation_date = datetime.strptime(str(creation_date), '%Y-%m-%d')\n",
        "        expiration_date = datetime.strptime(str(expiration_date), '%Y-%m-%d')\n",
        "        ageofdomain = abs((expiration_date - creation_date).days)\n",
        "        #print(ageofdomain)\n",
        "        if (ageofdomain/30) > 6:\n",
        "            return 1\n",
        "        else:\n",
        "            return -1\n",
        "    except:\n",
        "        return -1"
      ],
      "execution_count": 27,
      "outputs": []
    },
    {
      "cell_type": "code",
      "metadata": {
        "id": "it5qYZf1Es4V",
        "colab_type": "code",
        "colab": {}
      },
      "source": [
        "def DNSRecord(url):\n",
        "    dns = 0\n",
        "    try:\n",
        "        d = whois.whois(url)\n",
        "    except:\n",
        "        dns = -1\n",
        "    if dns == -1:\n",
        "        return -1\n",
        "    else:\n",
        "        return 1"
      ],
      "execution_count": 28,
      "outputs": []
    },
    {
      "cell_type": "code",
      "metadata": {
        "id": "J7DPyzraEvII",
        "colab_type": "code",
        "colab": {
          "base_uri": "https://localhost:8080/",
          "height": 34
        },
        "outputId": "3a0e7be1-513c-4047-86c7-3001ed132d83"
      },
      "source": [
        "def web_traffic(url):\n",
        "    try:\n",
        "        with urllib.request.urlopen(\"http://data.alexa.com/data?cli=10&dat=s&url=\" + url) as response:\n",
        "            html = response.read()\n",
        "    except:\n",
        "        return -1\n",
        "\n",
        "    tree = ET.fromstring(html.decode())\n",
        "    try:\n",
        "        rank = (tree.findall('*/REACH'))[0].attrib['RANK']\n",
        "    except:\n",
        "        return -1\n",
        "    if (int(rank)<100000):\n",
        "        return 1\n",
        "    else:\n",
        "        return -1\n",
        "web_traffic(\"www.google.com\")"
      ],
      "execution_count": 29,
      "outputs": [
        {
          "output_type": "execute_result",
          "data": {
            "text/plain": [
              "1"
            ]
          },
          "metadata": {
            "tags": []
          },
          "execution_count": 29
        }
      ]
    },
    {
      "cell_type": "code",
      "metadata": {
        "id": "8ZOswxxcEwm2",
        "colab_type": "code",
        "colab": {}
      },
      "source": [
        "#\n",
        "def Page_Rank(global_rank):\n",
        "  return 0\n",
        "    # try:\n",
        "    #     if global_rank > 0 and global_rank < 100000:\n",
        "    #         return 1\n",
        "    #     else:\n",
        "    #         return -1\n",
        "    # except:\n",
        "    #     return 1\n",
        "# Page_Rank(\"ashdnkjbckjb\")"
      ],
      "execution_count": 87,
      "outputs": []
    },
    {
      "cell_type": "code",
      "metadata": {
        "id": "JM3Z8FYWEyfh",
        "colab_type": "code",
        "colab": {}
      },
      "source": [
        "#\n",
        "def Google_Index(url):\n",
        "  return 0\n",
        "    # site = search(url, 5)\n",
        "    # if site:\n",
        "    #     return 1\n",
        "    # else:\n",
        "    #     return -1\n",
        "\n",
        "# Google_Index(\"hmnva\")"
      ],
      "execution_count": 40,
      "outputs": []
    },
    {
      "cell_type": "code",
      "metadata": {
        "id": "gdy65lfzE0C2",
        "colab_type": "code",
        "colab": {}
      },
      "source": [
        "def Links_pointing_to_page(response):\n",
        "  num_of_links = len(re.findall(r\"<a href=\", response.text))\n",
        "  if num_of_links == 0:\n",
        "    return 1\n",
        "  elif num_of_links <= 2:\n",
        "    return 0\n",
        "  else:\n",
        "    return -1"
      ],
      "execution_count": 32,
      "outputs": []
    },
    {
      "cell_type": "code",
      "metadata": {
        "id": "OujPsROLE2Jg",
        "colab_type": "code",
        "colab": {}
      },
      "source": [
        "def Statical_report(url):\n",
        "    hostname = url\n",
        "    scaned_hostname = [(x.start(0), x.end(0)) for x in re.finditer('https://|http://|www.|https://www.|http://www.', hostname)]\n",
        "    length_hostname = int(len(scaned_hostname))\n",
        "    if length_hostname != 0:\n",
        "        y = scaned_hostname[0][1]\n",
        "        hostname = hostname[y:]\n",
        "        scaned_hostname = [(x.start(0), x.end(0)) for x in re.finditer('/', hostname)]\n",
        "        length_hostname = int(len(scaned_hostname))\n",
        "        if length_hostname != 0:\n",
        "            hostname = hostname[:scaned_hostname[0][0]]\n",
        "    url_match=re.search('at\\.ua|usa\\.cc|baltazarpresentes\\.com\\.br|pe\\.hu|esy\\.es|hol\\.es|sweddy\\.com|myjino\\.ru|96\\.lt|ow\\.ly',url)\n",
        "    try:\n",
        "        ip_address = socket.gethostbyname(hostname)\n",
        "        ip_match=re.search('146\\.112\\.61\\.108|213\\.174\\.157\\.151|121\\.50\\.168\\.88|192\\.185\\.217\\.116|78\\.46\\.211\\.158|181\\.174\\.165\\.13|46\\.242\\.145\\.103|121\\.50\\.168\\.40|83\\.125\\.22\\.219|46\\.242\\.145\\.98|107\\.151\\.148\\.44|107\\.151\\.148\\.107|64\\.70\\.19\\.203|199\\.184\\.144\\.27|107\\.151\\.148\\.108|107\\.151\\.148\\.109|119\\.28\\.52\\.61|54\\.83\\.43\\.69|52\\.69\\.166\\.231|216\\.58\\.192\\.225|118\\.184\\.25\\.86|67\\.208\\.74\\.71|23\\.253\\.126\\.58|104\\.239\\.157\\.210|175\\.126\\.123\\.219|141\\.8\\.224\\.221|10\\.10\\.10\\.10|43\\.229\\.108\\.32|103\\.232\\.215\\.140|69\\.172\\.201\\.153|216\\.218\\.185\\.162|54\\.225\\.104\\.146|103\\.243\\.24\\.98|199\\.59\\.243\\.120|31\\.170\\.160\\.61|213\\.19\\.128\\.77|62\\.113\\.226\\.131|208\\.100\\.26\\.234|195\\.16\\.127\\.102|195\\.16\\.127\\.157|34\\.196\\.13\\.28|103\\.224\\.212\\.222|172\\.217\\.4\\.225|54\\.72\\.9\\.51|192\\.64\\.147\\.141|198\\.200\\.56\\.183|23\\.253\\.164\\.103|52\\.48\\.191\\.26|52\\.214\\.197\\.72|87\\.98\\.255\\.18|209\\.99\\.17\\.27|216\\.38\\.62\\.18|104\\.130\\.124\\.96|47\\.89\\.58\\.141|78\\.46\\.211\\.158|54\\.86\\.225\\.156|54\\.82\\.156\\.19|37\\.157\\.192\\.102|204\\.11\\.56\\.48|110\\.34\\.231\\.42',ip_address)  \n",
        "    except:\n",
        "        return -1\n",
        "\n",
        "    if url_match:\n",
        "        return -1\n",
        "    else:\n",
        "        return 1"
      ],
      "execution_count": 33,
      "outputs": []
    },
    {
      "cell_type": "markdown",
      "metadata": {
        "id": "ztStHw98YzE9",
        "colab_type": "text"
      },
      "source": [
        "# Feature Extraction Final Function"
      ]
    },
    {
      "cell_type": "code",
      "metadata": {
        "id": "9lrt7ET5E4yg",
        "colab_type": "code",
        "colab": {}
      },
      "source": [
        "def final(url):\n",
        "  subDomain, domain, suffix = extract(url)\n",
        "  hostname = subDomain + domain + suffix\n",
        "  \n",
        "  # Converts the given URL into standard format\n",
        "  if not re.findall(r\"^https?\", url):\n",
        "    url = \"http://\" + url\n",
        "\n",
        "  # Stores the response of the given URL\n",
        "  try:\n",
        "      response = requests.get(url)\n",
        "      soup = BeautifulSoup(response.text, 'html.parser')\n",
        "  except:\n",
        "      response = \"\"\n",
        "      soup = -999\n",
        "  \n",
        "  if soup == -999:\n",
        "    return [-1] * 30\n",
        "\n",
        "  # Extracts global rank of the website\n",
        "  try:\n",
        "    global_rank = int(re.findall(r\"Global Rank: ([0-9]+)\", rank_checker_response.text)[0])\n",
        "  except:\n",
        "    global_rank = -1\n",
        "  \n",
        "  return [having_IPhaving_IP_Address(url),URLURL_Length(url),Shortining_Service(url),having_At_Symbol(url), double_slash_redirecting(url), Prefix_Suffix(domain), having_Sub_Domain(hostname), SSLfinal_State(url), Domain_registration_length(url), favicon(url, soup), port(url, domain), HTTPS_token(url), Request_url(url, soup, domain), Url_of_Anchor(url, soup, domain), Links_in_tags(url, soup, domain), SFH(url, soup), Submitting_to_email(response), Abnormal_URL(response) ,Redirect(response), on_mouseover(response), RightClick(response), popUpWindow(response), Iframe(response), age_of_domain(url), DNSRecord(url), web_traffic(url), Page_Rank(global_rank), Google_Index(url), Links_pointing_to_page(response), Statical_report(url)]"
      ],
      "execution_count": 41,
      "outputs": []
    },
    {
      "cell_type": "markdown",
      "metadata": {
        "id": "75vqc75oHlrL",
        "colab_type": "text"
      },
      "source": [
        "# Model Testing"
      ]
    },
    {
      "cell_type": "code",
      "metadata": {
        "id": "DwdjCaEFWTdm",
        "colab_type": "code",
        "colab": {}
      },
      "source": [
        "col = [\"having_IPhaving_IP_Address\",\t\"URLURL_Length\",\t\"Shortining_Service\",\t\"having_At_Symbol\",\t\"double_slash_redirecting\",\t\"Prefix_Suffix\",\t\"having_Sub_Domain\",\t\"SSLfinal_State\",\t\"Domain_registeration_length\",\t\"Favicon\",\t\"port\",\t\"HTTPS_token\",\t\"Request_URL\",\t\"URL_of_Anchor\",\t\"Links_in_tags\",\t\"SFH\",\t\"Submitting_to_email\",\t\"Abnormal_URL\",\t\"Redirect\",\t\"on_mouseover\",\t\"RightClick\",\t\"popUpWidnow\",\t\"Iframe\",\t\"age_of_domain\",\t\"DNSRecord\",\t\"web_traffic\",\t\"Page_Rank\",\t\"Google_Index\",\t\"Links_pointing_to_page\",\t\"Statistical_report\"]"
      ],
      "execution_count": 35,
      "outputs": []
    },
    {
      "cell_type": "code",
      "metadata": {
        "id": "gHDwZwc-HpXZ",
        "colab_type": "code",
        "colab": {
          "base_uri": "https://localhost:8080/",
          "height": 97
        },
        "outputId": "a797c4d4-3f7e-4b0d-92e5-222bc6ae15f5"
      },
      "source": [
        "a = [[-1, -1,\t1, 1, 1, -1, 0, 1, 1, 1, 1, 1, 1, -1, -1, -1, 1, 1, 0, 1, 1, 1, 1, -1, 1, 0, -1, 1, 0, 1]]\n",
        "df = pd.DataFrame(a,  columns =  col)\n",
        "df"
      ],
      "execution_count": 36,
      "outputs": [
        {
          "output_type": "execute_result",
          "data": {
            "text/html": [
              "<div>\n",
              "<style scoped>\n",
              "    .dataframe tbody tr th:only-of-type {\n",
              "        vertical-align: middle;\n",
              "    }\n",
              "\n",
              "    .dataframe tbody tr th {\n",
              "        vertical-align: top;\n",
              "    }\n",
              "\n",
              "    .dataframe thead th {\n",
              "        text-align: right;\n",
              "    }\n",
              "</style>\n",
              "<table border=\"1\" class=\"dataframe\">\n",
              "  <thead>\n",
              "    <tr style=\"text-align: right;\">\n",
              "      <th></th>\n",
              "      <th>having_IPhaving_IP_Address</th>\n",
              "      <th>URLURL_Length</th>\n",
              "      <th>Shortining_Service</th>\n",
              "      <th>having_At_Symbol</th>\n",
              "      <th>double_slash_redirecting</th>\n",
              "      <th>Prefix_Suffix</th>\n",
              "      <th>having_Sub_Domain</th>\n",
              "      <th>SSLfinal_State</th>\n",
              "      <th>Domain_registeration_length</th>\n",
              "      <th>Favicon</th>\n",
              "      <th>port</th>\n",
              "      <th>HTTPS_token</th>\n",
              "      <th>Request_URL</th>\n",
              "      <th>URL_of_Anchor</th>\n",
              "      <th>Links_in_tags</th>\n",
              "      <th>SFH</th>\n",
              "      <th>Submitting_to_email</th>\n",
              "      <th>Abnormal_URL</th>\n",
              "      <th>Redirect</th>\n",
              "      <th>on_mouseover</th>\n",
              "      <th>RightClick</th>\n",
              "      <th>popUpWidnow</th>\n",
              "      <th>Iframe</th>\n",
              "      <th>age_of_domain</th>\n",
              "      <th>DNSRecord</th>\n",
              "      <th>web_traffic</th>\n",
              "      <th>Page_Rank</th>\n",
              "      <th>Google_Index</th>\n",
              "      <th>Links_pointing_to_page</th>\n",
              "      <th>Statistical_report</th>\n",
              "    </tr>\n",
              "  </thead>\n",
              "  <tbody>\n",
              "    <tr>\n",
              "      <th>0</th>\n",
              "      <td>-1</td>\n",
              "      <td>-1</td>\n",
              "      <td>1</td>\n",
              "      <td>1</td>\n",
              "      <td>1</td>\n",
              "      <td>-1</td>\n",
              "      <td>0</td>\n",
              "      <td>1</td>\n",
              "      <td>1</td>\n",
              "      <td>1</td>\n",
              "      <td>1</td>\n",
              "      <td>1</td>\n",
              "      <td>1</td>\n",
              "      <td>-1</td>\n",
              "      <td>-1</td>\n",
              "      <td>-1</td>\n",
              "      <td>1</td>\n",
              "      <td>1</td>\n",
              "      <td>0</td>\n",
              "      <td>1</td>\n",
              "      <td>1</td>\n",
              "      <td>1</td>\n",
              "      <td>1</td>\n",
              "      <td>-1</td>\n",
              "      <td>1</td>\n",
              "      <td>0</td>\n",
              "      <td>-1</td>\n",
              "      <td>1</td>\n",
              "      <td>0</td>\n",
              "      <td>1</td>\n",
              "    </tr>\n",
              "  </tbody>\n",
              "</table>\n",
              "</div>"
            ],
            "text/plain": [
              "   having_IPhaving_IP_Address  ...  Statistical_report\n",
              "0                          -1  ...                   1\n",
              "\n",
              "[1 rows x 30 columns]"
            ]
          },
          "metadata": {
            "tags": []
          },
          "execution_count": 36
        }
      ]
    },
    {
      "cell_type": "code",
      "metadata": {
        "id": "4kmvAZ6WYL2C",
        "colab_type": "code",
        "colab": {
          "base_uri": "https://localhost:8080/",
          "height": 34
        },
        "outputId": "c29e22c3-94e0-485b-aeb5-4424029e58a0"
      },
      "source": [
        "test = pd.DataFrame([[-1] * 30], columns = col)\n",
        "loaded_model.predict(test)"
      ],
      "execution_count": 37,
      "outputs": [
        {
          "output_type": "execute_result",
          "data": {
            "text/plain": [
              "array([-1])"
            ]
          },
          "metadata": {
            "tags": []
          },
          "execution_count": 37
        }
      ]
    },
    {
      "cell_type": "code",
      "metadata": {
        "id": "EANAvYkSYrUB",
        "colab_type": "code",
        "colab": {
          "base_uri": "https://localhost:8080/",
          "height": 34
        },
        "outputId": "4060a6a6-e931-478a-f849-84c26925feba"
      },
      "source": [
        "test = pd.DataFrame([final(\"https://rakuten.jp.wjuymvl.cn/\")], columns = col)\n",
        "loaded_model.predict(test)"
      ],
      "execution_count": 117,
      "outputs": [
        {
          "output_type": "execute_result",
          "data": {
            "text/plain": [
              "array([1])"
            ]
          },
          "metadata": {
            "tags": []
          },
          "execution_count": 117
        }
      ]
    },
    {
      "cell_type": "code",
      "metadata": {
        "colab_type": "code",
        "id": "lE1qYzyy8S8Y",
        "colab": {
          "base_uri": "https://localhost:8080/",
          "height": 34
        },
        "outputId": "5f8e9154-15cd-4b3f-8cb4-18aac53344ba"
      },
      "source": [
        "test = pd.DataFrame([final(\"https://lms.wtef.talentsprint.com/login?next=/courses/course-v1%3ATS%2BWE_VC%2B2020/courseware/5398b7f9450c4f15aaebe685d9e4f611/7a94f058abd24455a92cbe77f304d959/\")], columns = col)\n",
        "loaded_model.predict(test)"
      ],
      "execution_count": 112,
      "outputs": [
        {
          "output_type": "execute_result",
          "data": {
            "text/plain": [
              "array([1])"
            ]
          },
          "metadata": {
            "tags": []
          },
          "execution_count": 112
        }
      ]
    },
    {
      "cell_type": "code",
      "metadata": {
        "id": "XqPpZVru8t5l",
        "colab_type": "code",
        "colab": {
          "base_uri": "https://localhost:8080/",
          "height": 34
        },
        "outputId": "2d6acdbe-2714-4a1e-a412-76e240d7490b"
      },
      "source": [
        "test = pd.DataFrame([final(\"http://www.Confirme-paypal.com/\")], columns = col)\n",
        "loaded_model.predict(test)"
      ],
      "execution_count": 115,
      "outputs": [
        {
          "output_type": "execute_result",
          "data": {
            "text/plain": [
              "array([-1])"
            ]
          },
          "metadata": {
            "tags": []
          },
          "execution_count": 115
        }
      ]
    },
    {
      "cell_type": "code",
      "metadata": {
        "id": "z9KgjCYaYTW-",
        "colab_type": "code",
        "colab": {
          "base_uri": "https://localhost:8080/",
          "height": 521
        },
        "outputId": "36560f74-430a-4883-f397-e654ba3fdf98"
      },
      "source": [
        "l =[]\n",
        "for n, i in enumerate(final(\"https://lms.wtef.talentsprint.com/login?next=/courses/course-v1%3ATS%2BWE_VC%2B2020/courseware/5398b7f9450c4f15aaebe685d9e4f611/7a94f058abd24455a92cbe77f304d959/\")):\n",
        "  l.append([str(i) + \"-------------\" + col[n]])\n",
        "l"
      ],
      "execution_count": 110,
      "outputs": [
        {
          "output_type": "execute_result",
          "data": {
            "text/plain": [
              "[['1-------------having_IPhaving_IP_Address'],\n",
              " ['-1-------------URLURL_Length'],\n",
              " ['-1-------------Shortining_Service'],\n",
              " ['1-------------having_At_Symbol'],\n",
              " ['1-------------double_slash_redirecting'],\n",
              " ['1-------------Prefix_Suffix'],\n",
              " ['0-------------having_Sub_Domain'],\n",
              " ['1-------------SSLfinal_State'],\n",
              " ['0-------------Domain_registeration_length'],\n",
              " ['1-------------Favicon'],\n",
              " ['1-------------port'],\n",
              " ['1-------------HTTPS_token'],\n",
              " ['-1-------------Request_URL'],\n",
              " ['0-------------URL_of_Anchor'],\n",
              " ['0-------------Links_in_tags'],\n",
              " ['-1-------------SFH'],\n",
              " ['-1-------------Submitting_to_email'],\n",
              " ['1-------------Abnormal_URL'],\n",
              " ['1-------------Redirect'],\n",
              " ['1-------------on_mouseover'],\n",
              " ['1-------------RightClick'],\n",
              " ['1-------------popUpWidnow'],\n",
              " ['-1-------------Iframe'],\n",
              " ['1-------------age_of_domain'],\n",
              " ['1-------------DNSRecord'],\n",
              " ['1-------------web_traffic'],\n",
              " ['0-------------Page_Rank'],\n",
              " ['0-------------Google_Index'],\n",
              " ['-1-------------Links_pointing_to_page'],\n",
              " ['1-------------Statistical_report']]"
            ]
          },
          "metadata": {
            "tags": []
          },
          "execution_count": 110
        }
      ]
    },
    {
      "cell_type": "code",
      "metadata": {
        "id": "YhiHfzB29Vwo",
        "colab_type": "code",
        "colab": {}
      },
      "source": [
        "test = pd.DataFrame([final(\"www.google.com\")], columns = col)\n",
        "loaded_model.predict(test)"
      ],
      "execution_count": null,
      "outputs": []
    },
    {
      "cell_type": "code",
      "metadata": {
        "id": "KfSfut8MvkxT",
        "colab_type": "code",
        "colab": {}
      },
      "source": [
        "test = pd.DataFrame([final(\"https://www.facebook.com\")], columns = col)\n",
        "loaded_model.predict(test)"
      ],
      "execution_count": null,
      "outputs": []
    }
  ]
}