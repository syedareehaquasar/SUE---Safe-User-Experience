{
  "nbformat": 4,
  "nbformat_minor": 0,
  "metadata": {
    "colab": {
      "name": "PhishingWebsiteDetectionModel.ipynb",
      "provenance": [],
      "collapsed_sections": [],
      "mount_file_id": "1EaQKrPiwVaiwiFIAa6poOrwxMYr4AGpy",
      "authorship_tag": "ABX9TyOH0aA8SK1LmQX9VJiusuP3",
      "include_colab_link": true
    },
    "kernelspec": {
      "name": "python3",
      "display_name": "Python 3"
    }
  },
  "cells": [
    {
      "cell_type": "markdown",
      "metadata": {
        "id": "view-in-github",
        "colab_type": "text"
      },
      "source": [
        "<a href=\"https://colab.research.google.com/github/syedareehaquasar/SUE---Safe-User-Experience/blob/master/PhishingWebsiteDetectionModel.ipynb\" target=\"_parent\"><img src=\"https://colab.research.google.com/assets/colab-badge.svg\" alt=\"Open In Colab\"/></a>"
      ]
    },
    {
      "cell_type": "markdown",
      "metadata": {
        "id": "7yD4b7GPA8Yo",
        "colab_type": "text"
      },
      "source": [
        "**Phishing Website Detection ML model training**\n",
        "\n",
        "Designing model for creating phishing detection browser extension"
      ]
    },
    {
      "cell_type": "markdown",
      "metadata": {
        "id": "geC7AS950t_u",
        "colab_type": "text"
      },
      "source": [
        "**Importing necessary modules**"
      ]
    },
    {
      "cell_type": "code",
      "metadata": {
        "id": "Y8luODJQAE8s",
        "colab_type": "code",
        "colab": {
          "base_uri": "https://localhost:8080/",
          "height": 70
        },
        "outputId": "39011112-9f90-4573-a18e-62aaa4f351e6"
      },
      "source": [
        "import pandas as pd\n",
        "import numpy as np\n",
        "import seaborn as sns\n",
        "import matplotlib.pyplot as plt"
      ],
      "execution_count": 2,
      "outputs": [
        {
          "output_type": "stream",
          "text": [
            "/usr/local/lib/python3.6/dist-packages/statsmodels/tools/_testing.py:19: FutureWarning: pandas.util.testing is deprecated. Use the functions in the public API at pandas.testing instead.\n",
            "  import pandas.util.testing as tm\n"
          ],
          "name": "stderr"
        }
      ]
    },
    {
      "cell_type": "markdown",
      "metadata": {
        "id": "RaosJZvyBw-g",
        "colab_type": "text"
      },
      "source": [
        "**Loading Data**"
      ]
    },
    {
      "cell_type": "code",
      "metadata": {
        "id": "BBOOUyfU0qYu",
        "colab_type": "code",
        "colab": {
          "base_uri": "https://localhost:8080/",
          "height": 215
        },
        "outputId": "99930d93-ceed-422d-a50f-0042587afe07"
      },
      "source": [
        "data0 = pd.read_csv('/content/drive/My Drive/SUE/data.csv')\n",
        "data0.head()"
      ],
      "execution_count": 3,
      "outputs": [
        {
          "output_type": "execute_result",
          "data": {
            "text/html": [
              "<div>\n",
              "<style scoped>\n",
              "    .dataframe tbody tr th:only-of-type {\n",
              "        vertical-align: middle;\n",
              "    }\n",
              "\n",
              "    .dataframe tbody tr th {\n",
              "        vertical-align: top;\n",
              "    }\n",
              "\n",
              "    .dataframe thead th {\n",
              "        text-align: right;\n",
              "    }\n",
              "</style>\n",
              "<table border=\"1\" class=\"dataframe\">\n",
              "  <thead>\n",
              "    <tr style=\"text-align: right;\">\n",
              "      <th></th>\n",
              "      <th>index</th>\n",
              "      <th>having_IPhaving_IP_Address</th>\n",
              "      <th>URLURL_Length</th>\n",
              "      <th>Shortining_Service</th>\n",
              "      <th>having_At_Symbol</th>\n",
              "      <th>double_slash_redirecting</th>\n",
              "      <th>Prefix_Suffix</th>\n",
              "      <th>having_Sub_Domain</th>\n",
              "      <th>SSLfinal_State</th>\n",
              "      <th>Domain_registeration_length</th>\n",
              "      <th>Favicon</th>\n",
              "      <th>port</th>\n",
              "      <th>HTTPS_token</th>\n",
              "      <th>Request_URL</th>\n",
              "      <th>URL_of_Anchor</th>\n",
              "      <th>Links_in_tags</th>\n",
              "      <th>SFH</th>\n",
              "      <th>Submitting_to_email</th>\n",
              "      <th>Abnormal_URL</th>\n",
              "      <th>Redirect</th>\n",
              "      <th>on_mouseover</th>\n",
              "      <th>RightClick</th>\n",
              "      <th>popUpWidnow</th>\n",
              "      <th>Iframe</th>\n",
              "      <th>age_of_domain</th>\n",
              "      <th>DNSRecord</th>\n",
              "      <th>web_traffic</th>\n",
              "      <th>Page_Rank</th>\n",
              "      <th>Google_Index</th>\n",
              "      <th>Links_pointing_to_page</th>\n",
              "      <th>Statistical_report</th>\n",
              "      <th>Result</th>\n",
              "    </tr>\n",
              "  </thead>\n",
              "  <tbody>\n",
              "    <tr>\n",
              "      <th>0</th>\n",
              "      <td>1</td>\n",
              "      <td>-1</td>\n",
              "      <td>1</td>\n",
              "      <td>1</td>\n",
              "      <td>1</td>\n",
              "      <td>-1</td>\n",
              "      <td>-1</td>\n",
              "      <td>-1</td>\n",
              "      <td>-1</td>\n",
              "      <td>-1</td>\n",
              "      <td>1</td>\n",
              "      <td>1</td>\n",
              "      <td>-1</td>\n",
              "      <td>1</td>\n",
              "      <td>-1</td>\n",
              "      <td>1</td>\n",
              "      <td>-1</td>\n",
              "      <td>-1</td>\n",
              "      <td>-1</td>\n",
              "      <td>0</td>\n",
              "      <td>1</td>\n",
              "      <td>1</td>\n",
              "      <td>1</td>\n",
              "      <td>1</td>\n",
              "      <td>-1</td>\n",
              "      <td>-1</td>\n",
              "      <td>-1</td>\n",
              "      <td>-1</td>\n",
              "      <td>1</td>\n",
              "      <td>1</td>\n",
              "      <td>-1</td>\n",
              "      <td>-1</td>\n",
              "    </tr>\n",
              "    <tr>\n",
              "      <th>1</th>\n",
              "      <td>2</td>\n",
              "      <td>1</td>\n",
              "      <td>1</td>\n",
              "      <td>1</td>\n",
              "      <td>1</td>\n",
              "      <td>1</td>\n",
              "      <td>-1</td>\n",
              "      <td>0</td>\n",
              "      <td>1</td>\n",
              "      <td>-1</td>\n",
              "      <td>1</td>\n",
              "      <td>1</td>\n",
              "      <td>-1</td>\n",
              "      <td>1</td>\n",
              "      <td>0</td>\n",
              "      <td>-1</td>\n",
              "      <td>-1</td>\n",
              "      <td>1</td>\n",
              "      <td>1</td>\n",
              "      <td>0</td>\n",
              "      <td>1</td>\n",
              "      <td>1</td>\n",
              "      <td>1</td>\n",
              "      <td>1</td>\n",
              "      <td>-1</td>\n",
              "      <td>-1</td>\n",
              "      <td>0</td>\n",
              "      <td>-1</td>\n",
              "      <td>1</td>\n",
              "      <td>1</td>\n",
              "      <td>1</td>\n",
              "      <td>-1</td>\n",
              "    </tr>\n",
              "    <tr>\n",
              "      <th>2</th>\n",
              "      <td>3</td>\n",
              "      <td>1</td>\n",
              "      <td>0</td>\n",
              "      <td>1</td>\n",
              "      <td>1</td>\n",
              "      <td>1</td>\n",
              "      <td>-1</td>\n",
              "      <td>-1</td>\n",
              "      <td>-1</td>\n",
              "      <td>-1</td>\n",
              "      <td>1</td>\n",
              "      <td>1</td>\n",
              "      <td>-1</td>\n",
              "      <td>1</td>\n",
              "      <td>0</td>\n",
              "      <td>-1</td>\n",
              "      <td>-1</td>\n",
              "      <td>-1</td>\n",
              "      <td>-1</td>\n",
              "      <td>0</td>\n",
              "      <td>1</td>\n",
              "      <td>1</td>\n",
              "      <td>1</td>\n",
              "      <td>1</td>\n",
              "      <td>1</td>\n",
              "      <td>-1</td>\n",
              "      <td>1</td>\n",
              "      <td>-1</td>\n",
              "      <td>1</td>\n",
              "      <td>0</td>\n",
              "      <td>-1</td>\n",
              "      <td>-1</td>\n",
              "    </tr>\n",
              "    <tr>\n",
              "      <th>3</th>\n",
              "      <td>4</td>\n",
              "      <td>1</td>\n",
              "      <td>0</td>\n",
              "      <td>1</td>\n",
              "      <td>1</td>\n",
              "      <td>1</td>\n",
              "      <td>-1</td>\n",
              "      <td>-1</td>\n",
              "      <td>-1</td>\n",
              "      <td>1</td>\n",
              "      <td>1</td>\n",
              "      <td>1</td>\n",
              "      <td>-1</td>\n",
              "      <td>-1</td>\n",
              "      <td>0</td>\n",
              "      <td>0</td>\n",
              "      <td>-1</td>\n",
              "      <td>1</td>\n",
              "      <td>1</td>\n",
              "      <td>0</td>\n",
              "      <td>1</td>\n",
              "      <td>1</td>\n",
              "      <td>1</td>\n",
              "      <td>1</td>\n",
              "      <td>-1</td>\n",
              "      <td>-1</td>\n",
              "      <td>1</td>\n",
              "      <td>-1</td>\n",
              "      <td>1</td>\n",
              "      <td>-1</td>\n",
              "      <td>1</td>\n",
              "      <td>-1</td>\n",
              "    </tr>\n",
              "    <tr>\n",
              "      <th>4</th>\n",
              "      <td>5</td>\n",
              "      <td>1</td>\n",
              "      <td>0</td>\n",
              "      <td>-1</td>\n",
              "      <td>1</td>\n",
              "      <td>1</td>\n",
              "      <td>-1</td>\n",
              "      <td>1</td>\n",
              "      <td>1</td>\n",
              "      <td>-1</td>\n",
              "      <td>1</td>\n",
              "      <td>1</td>\n",
              "      <td>1</td>\n",
              "      <td>1</td>\n",
              "      <td>0</td>\n",
              "      <td>0</td>\n",
              "      <td>-1</td>\n",
              "      <td>1</td>\n",
              "      <td>1</td>\n",
              "      <td>0</td>\n",
              "      <td>-1</td>\n",
              "      <td>1</td>\n",
              "      <td>-1</td>\n",
              "      <td>1</td>\n",
              "      <td>-1</td>\n",
              "      <td>-1</td>\n",
              "      <td>0</td>\n",
              "      <td>-1</td>\n",
              "      <td>1</td>\n",
              "      <td>1</td>\n",
              "      <td>1</td>\n",
              "      <td>1</td>\n",
              "    </tr>\n",
              "  </tbody>\n",
              "</table>\n",
              "</div>"
            ],
            "text/plain": [
              "   index  having_IPhaving_IP_Address  ...  Statistical_report  Result\n",
              "0      1                          -1  ...                  -1      -1\n",
              "1      2                           1  ...                   1      -1\n",
              "2      3                           1  ...                  -1      -1\n",
              "3      4                           1  ...                   1      -1\n",
              "4      5                           1  ...                   1       1\n",
              "\n",
              "[5 rows x 32 columns]"
            ]
          },
          "metadata": {
            "tags": []
          },
          "execution_count": 3
        }
      ]
    },
    {
      "cell_type": "markdown",
      "metadata": {
        "id": "1a8CmAtq1KOb",
        "colab_type": "text"
      },
      "source": [
        "**All about data**"
      ]
    },
    {
      "cell_type": "code",
      "metadata": {
        "id": "WYb7sxhf1NyI",
        "colab_type": "code",
        "colab": {
          "base_uri": "https://localhost:8080/",
          "height": 34
        },
        "outputId": "6280bcec-5425-428a-bbaf-5f44f681c11d"
      },
      "source": [
        "data0.shape"
      ],
      "execution_count": 4,
      "outputs": [
        {
          "output_type": "execute_result",
          "data": {
            "text/plain": [
              "(11055, 32)"
            ]
          },
          "metadata": {
            "tags": []
          },
          "execution_count": 4
        }
      ]
    },
    {
      "cell_type": "code",
      "metadata": {
        "id": "PcPtSidd1RNc",
        "colab_type": "code",
        "colab": {
          "base_uri": "https://localhost:8080/",
          "height": 185
        },
        "outputId": "37c5c9f5-5111-4d91-e951-705da6670829"
      },
      "source": [
        "data0.columns"
      ],
      "execution_count": 5,
      "outputs": [
        {
          "output_type": "execute_result",
          "data": {
            "text/plain": [
              "Index(['index', 'having_IPhaving_IP_Address', 'URLURL_Length',\n",
              "       'Shortining_Service', 'having_At_Symbol', 'double_slash_redirecting',\n",
              "       'Prefix_Suffix', 'having_Sub_Domain', 'SSLfinal_State',\n",
              "       'Domain_registeration_length', 'Favicon', 'port', 'HTTPS_token',\n",
              "       'Request_URL', 'URL_of_Anchor', 'Links_in_tags', 'SFH',\n",
              "       'Submitting_to_email', 'Abnormal_URL', 'Redirect', 'on_mouseover',\n",
              "       'RightClick', 'popUpWidnow', 'Iframe', 'age_of_domain', 'DNSRecord',\n",
              "       'web_traffic', 'Page_Rank', 'Google_Index', 'Links_pointing_to_page',\n",
              "       'Statistical_report', 'Result'],\n",
              "      dtype='object')"
            ]
          },
          "metadata": {
            "tags": []
          },
          "execution_count": 5
        }
      ]
    },
    {
      "cell_type": "code",
      "metadata": {
        "id": "n23T-dV51WMR",
        "colab_type": "code",
        "colab": {
          "base_uri": "https://localhost:8080/",
          "height": 672
        },
        "outputId": "6d959908-fe63-451b-fbc9-a0ae671f7f22"
      },
      "source": [
        "data0.info()"
      ],
      "execution_count": 6,
      "outputs": [
        {
          "output_type": "stream",
          "text": [
            "<class 'pandas.core.frame.DataFrame'>\n",
            "RangeIndex: 11055 entries, 0 to 11054\n",
            "Data columns (total 32 columns):\n",
            " #   Column                       Non-Null Count  Dtype\n",
            "---  ------                       --------------  -----\n",
            " 0   index                        11055 non-null  int64\n",
            " 1   having_IPhaving_IP_Address   11055 non-null  int64\n",
            " 2   URLURL_Length                11055 non-null  int64\n",
            " 3   Shortining_Service           11055 non-null  int64\n",
            " 4   having_At_Symbol             11055 non-null  int64\n",
            " 5   double_slash_redirecting     11055 non-null  int64\n",
            " 6   Prefix_Suffix                11055 non-null  int64\n",
            " 7   having_Sub_Domain            11055 non-null  int64\n",
            " 8   SSLfinal_State               11055 non-null  int64\n",
            " 9   Domain_registeration_length  11055 non-null  int64\n",
            " 10  Favicon                      11055 non-null  int64\n",
            " 11  port                         11055 non-null  int64\n",
            " 12  HTTPS_token                  11055 non-null  int64\n",
            " 13  Request_URL                  11055 non-null  int64\n",
            " 14  URL_of_Anchor                11055 non-null  int64\n",
            " 15  Links_in_tags                11055 non-null  int64\n",
            " 16  SFH                          11055 non-null  int64\n",
            " 17  Submitting_to_email          11055 non-null  int64\n",
            " 18  Abnormal_URL                 11055 non-null  int64\n",
            " 19  Redirect                     11055 non-null  int64\n",
            " 20  on_mouseover                 11055 non-null  int64\n",
            " 21  RightClick                   11055 non-null  int64\n",
            " 22  popUpWidnow                  11055 non-null  int64\n",
            " 23  Iframe                       11055 non-null  int64\n",
            " 24  age_of_domain                11055 non-null  int64\n",
            " 25  DNSRecord                    11055 non-null  int64\n",
            " 26  web_traffic                  11055 non-null  int64\n",
            " 27  Page_Rank                    11055 non-null  int64\n",
            " 28  Google_Index                 11055 non-null  int64\n",
            " 29  Links_pointing_to_page       11055 non-null  int64\n",
            " 30  Statistical_report           11055 non-null  int64\n",
            " 31  Result                       11055 non-null  int64\n",
            "dtypes: int64(32)\n",
            "memory usage: 2.7 MB\n"
          ],
          "name": "stdout"
        }
      ]
    },
    {
      "cell_type": "markdown",
      "metadata": {
        "id": "3dHi20fv1bD2",
        "colab_type": "text"
      },
      "source": [
        "**Visualizing Data**"
      ]
    },
    {
      "cell_type": "code",
      "metadata": {
        "id": "a2bUvSPL1vBh",
        "colab_type": "code",
        "colab": {
          "base_uri": "https://localhost:8080/",
          "height": 893
        },
        "outputId": "45afdf21-520f-4148-cf20-e4994b5661a1"
      },
      "source": [
        "#correlation heatmap\n",
        "\n",
        "plt.figure(figsize=(15,13))\n",
        "sns.heatmap(data0.corr())\n",
        "plt.show()"
      ],
      "execution_count": 7,
      "outputs": [
        {
          "output_type": "display_data",
          "data": {
            "image/png": "[encoded data removed]",
            "text/plain": [
              "<Figure size 1080x936 with 2 Axes>"
            ]
          },
          "metadata": {
            "tags": [],
            "needs_background": "light"
          }
        }
      ]
    },
    {
      "cell_type": "markdown",
      "metadata": {
        "id": "j4u8odUU187g",
        "colab_type": "text"
      },
      "source": [
        "**Data Preprocessing**"
      ]
    },
    {
      "cell_type": "code",
      "metadata": {
        "id": "rYacjzal2BH9",
        "colab_type": "code",
        "colab": {
          "base_uri": "https://localhost:8080/",
          "height": 304
        },
        "outputId": "acea17f0-2c28-49bf-a33b-f1c1b7bf3a3c"
      },
      "source": [
        "data0.describe()"
      ],
      "execution_count": 8,
      "outputs": [
        {
          "output_type": "execute_result",
          "data": {
            "text/html": [
              "<div>\n",
              "<style scoped>\n",
              "    .dataframe tbody tr th:only-of-type {\n",
              "        vertical-align: middle;\n",
              "    }\n",
              "\n",
              "    .dataframe tbody tr th {\n",
              "        vertical-align: top;\n",
              "    }\n",
              "\n",
              "    .dataframe thead th {\n",
              "        text-align: right;\n",
              "    }\n",
              "</style>\n",
              "<table border=\"1\" class=\"dataframe\">\n",
              "  <thead>\n",
              "    <tr style=\"text-align: right;\">\n",
              "      <th></th>\n",
              "      <th>index</th>\n",
              "      <th>having_IPhaving_IP_Address</th>\n",
              "      <th>URLURL_Length</th>\n",
              "      <th>Shortining_Service</th>\n",
              "      <th>having_At_Symbol</th>\n",
              "      <th>double_slash_redirecting</th>\n",
              "      <th>Prefix_Suffix</th>\n",
              "      <th>having_Sub_Domain</th>\n",
              "      <th>SSLfinal_State</th>\n",
              "      <th>Domain_registeration_length</th>\n",
              "      <th>Favicon</th>\n",
              "      <th>port</th>\n",
              "      <th>HTTPS_token</th>\n",
              "      <th>Request_URL</th>\n",
              "      <th>URL_of_Anchor</th>\n",
              "      <th>Links_in_tags</th>\n",
              "      <th>SFH</th>\n",
              "      <th>Submitting_to_email</th>\n",
              "      <th>Abnormal_URL</th>\n",
              "      <th>Redirect</th>\n",
              "      <th>on_mouseover</th>\n",
              "      <th>RightClick</th>\n",
              "      <th>popUpWidnow</th>\n",
              "      <th>Iframe</th>\n",
              "      <th>age_of_domain</th>\n",
              "      <th>DNSRecord</th>\n",
              "      <th>web_traffic</th>\n",
              "      <th>Page_Rank</th>\n",
              "      <th>Google_Index</th>\n",
              "      <th>Links_pointing_to_page</th>\n",
              "      <th>Statistical_report</th>\n",
              "      <th>Result</th>\n",
              "    </tr>\n",
              "  </thead>\n",
              "  <tbody>\n",
              "    <tr>\n",
              "      <th>count</th>\n",
              "      <td>11055.000000</td>\n",
              "      <td>11055.000000</td>\n",
              "      <td>11055.000000</td>\n",
              "      <td>11055.000000</td>\n",
              "      <td>11055.000000</td>\n",
              "      <td>11055.000000</td>\n",
              "      <td>11055.000000</td>\n",
              "      <td>11055.000000</td>\n",
              "      <td>11055.000000</td>\n",
              "      <td>11055.000000</td>\n",
              "      <td>11055.000000</td>\n",
              "      <td>11055.000000</td>\n",
              "      <td>11055.000000</td>\n",
              "      <td>11055.000000</td>\n",
              "      <td>11055.000000</td>\n",
              "      <td>11055.000000</td>\n",
              "      <td>11055.000000</td>\n",
              "      <td>11055.000000</td>\n",
              "      <td>11055.000000</td>\n",
              "      <td>11055.000000</td>\n",
              "      <td>11055.000000</td>\n",
              "      <td>11055.000000</td>\n",
              "      <td>11055.000000</td>\n",
              "      <td>11055.000000</td>\n",
              "      <td>11055.000000</td>\n",
              "      <td>11055.000000</td>\n",
              "      <td>11055.000000</td>\n",
              "      <td>11055.000000</td>\n",
              "      <td>11055.000000</td>\n",
              "      <td>11055.000000</td>\n",
              "      <td>11055.000000</td>\n",
              "      <td>11055.000000</td>\n",
              "    </tr>\n",
              "    <tr>\n",
              "      <th>mean</th>\n",
              "      <td>5528.000000</td>\n",
              "      <td>0.313795</td>\n",
              "      <td>-0.633198</td>\n",
              "      <td>0.738761</td>\n",
              "      <td>0.700588</td>\n",
              "      <td>0.741474</td>\n",
              "      <td>-0.734962</td>\n",
              "      <td>0.063953</td>\n",
              "      <td>0.250927</td>\n",
              "      <td>-0.336771</td>\n",
              "      <td>0.628584</td>\n",
              "      <td>0.728268</td>\n",
              "      <td>0.675079</td>\n",
              "      <td>0.186793</td>\n",
              "      <td>-0.076526</td>\n",
              "      <td>-0.118137</td>\n",
              "      <td>-0.595749</td>\n",
              "      <td>0.635640</td>\n",
              "      <td>0.705292</td>\n",
              "      <td>0.115694</td>\n",
              "      <td>0.762099</td>\n",
              "      <td>0.913885</td>\n",
              "      <td>0.613388</td>\n",
              "      <td>0.816915</td>\n",
              "      <td>0.061239</td>\n",
              "      <td>0.377114</td>\n",
              "      <td>0.287291</td>\n",
              "      <td>-0.483673</td>\n",
              "      <td>0.721574</td>\n",
              "      <td>0.344007</td>\n",
              "      <td>0.719584</td>\n",
              "      <td>0.113885</td>\n",
              "    </tr>\n",
              "    <tr>\n",
              "      <th>std</th>\n",
              "      <td>3191.447947</td>\n",
              "      <td>0.949534</td>\n",
              "      <td>0.766095</td>\n",
              "      <td>0.673998</td>\n",
              "      <td>0.713598</td>\n",
              "      <td>0.671011</td>\n",
              "      <td>0.678139</td>\n",
              "      <td>0.817518</td>\n",
              "      <td>0.911892</td>\n",
              "      <td>0.941629</td>\n",
              "      <td>0.777777</td>\n",
              "      <td>0.685324</td>\n",
              "      <td>0.737779</td>\n",
              "      <td>0.982444</td>\n",
              "      <td>0.715138</td>\n",
              "      <td>0.763973</td>\n",
              "      <td>0.759143</td>\n",
              "      <td>0.772021</td>\n",
              "      <td>0.708949</td>\n",
              "      <td>0.319872</td>\n",
              "      <td>0.647490</td>\n",
              "      <td>0.405991</td>\n",
              "      <td>0.789818</td>\n",
              "      <td>0.576784</td>\n",
              "      <td>0.998168</td>\n",
              "      <td>0.926209</td>\n",
              "      <td>0.827733</td>\n",
              "      <td>0.875289</td>\n",
              "      <td>0.692369</td>\n",
              "      <td>0.569944</td>\n",
              "      <td>0.694437</td>\n",
              "      <td>0.993539</td>\n",
              "    </tr>\n",
              "    <tr>\n",
              "      <th>min</th>\n",
              "      <td>1.000000</td>\n",
              "      <td>-1.000000</td>\n",
              "      <td>-1.000000</td>\n",
              "      <td>-1.000000</td>\n",
              "      <td>-1.000000</td>\n",
              "      <td>-1.000000</td>\n",
              "      <td>-1.000000</td>\n",
              "      <td>-1.000000</td>\n",
              "      <td>-1.000000</td>\n",
              "      <td>-1.000000</td>\n",
              "      <td>-1.000000</td>\n",
              "      <td>-1.000000</td>\n",
              "      <td>-1.000000</td>\n",
              "      <td>-1.000000</td>\n",
              "      <td>-1.000000</td>\n",
              "      <td>-1.000000</td>\n",
              "      <td>-1.000000</td>\n",
              "      <td>-1.000000</td>\n",
              "      <td>-1.000000</td>\n",
              "      <td>0.000000</td>\n",
              "      <td>-1.000000</td>\n",
              "      <td>-1.000000</td>\n",
              "      <td>-1.000000</td>\n",
              "      <td>-1.000000</td>\n",
              "      <td>-1.000000</td>\n",
              "      <td>-1.000000</td>\n",
              "      <td>-1.000000</td>\n",
              "      <td>-1.000000</td>\n",
              "      <td>-1.000000</td>\n",
              "      <td>-1.000000</td>\n",
              "      <td>-1.000000</td>\n",
              "      <td>-1.000000</td>\n",
              "    </tr>\n",
              "    <tr>\n",
              "      <th>25%</th>\n",
              "      <td>2764.500000</td>\n",
              "      <td>-1.000000</td>\n",
              "      <td>-1.000000</td>\n",
              "      <td>1.000000</td>\n",
              "      <td>1.000000</td>\n",
              "      <td>1.000000</td>\n",
              "      <td>-1.000000</td>\n",
              "      <td>-1.000000</td>\n",
              "      <td>-1.000000</td>\n",
              "      <td>-1.000000</td>\n",
              "      <td>1.000000</td>\n",
              "      <td>1.000000</td>\n",
              "      <td>1.000000</td>\n",
              "      <td>-1.000000</td>\n",
              "      <td>-1.000000</td>\n",
              "      <td>-1.000000</td>\n",
              "      <td>-1.000000</td>\n",
              "      <td>1.000000</td>\n",
              "      <td>1.000000</td>\n",
              "      <td>0.000000</td>\n",
              "      <td>1.000000</td>\n",
              "      <td>1.000000</td>\n",
              "      <td>1.000000</td>\n",
              "      <td>1.000000</td>\n",
              "      <td>-1.000000</td>\n",
              "      <td>-1.000000</td>\n",
              "      <td>0.000000</td>\n",
              "      <td>-1.000000</td>\n",
              "      <td>1.000000</td>\n",
              "      <td>0.000000</td>\n",
              "      <td>1.000000</td>\n",
              "      <td>-1.000000</td>\n",
              "    </tr>\n",
              "    <tr>\n",
              "      <th>50%</th>\n",
              "      <td>5528.000000</td>\n",
              "      <td>1.000000</td>\n",
              "      <td>-1.000000</td>\n",
              "      <td>1.000000</td>\n",
              "      <td>1.000000</td>\n",
              "      <td>1.000000</td>\n",
              "      <td>-1.000000</td>\n",
              "      <td>0.000000</td>\n",
              "      <td>1.000000</td>\n",
              "      <td>-1.000000</td>\n",
              "      <td>1.000000</td>\n",
              "      <td>1.000000</td>\n",
              "      <td>1.000000</td>\n",
              "      <td>1.000000</td>\n",
              "      <td>0.000000</td>\n",
              "      <td>0.000000</td>\n",
              "      <td>-1.000000</td>\n",
              "      <td>1.000000</td>\n",
              "      <td>1.000000</td>\n",
              "      <td>0.000000</td>\n",
              "      <td>1.000000</td>\n",
              "      <td>1.000000</td>\n",
              "      <td>1.000000</td>\n",
              "      <td>1.000000</td>\n",
              "      <td>1.000000</td>\n",
              "      <td>1.000000</td>\n",
              "      <td>1.000000</td>\n",
              "      <td>-1.000000</td>\n",
              "      <td>1.000000</td>\n",
              "      <td>0.000000</td>\n",
              "      <td>1.000000</td>\n",
              "      <td>1.000000</td>\n",
              "    </tr>\n",
              "    <tr>\n",
              "      <th>75%</th>\n",
              "      <td>8291.500000</td>\n",
              "      <td>1.000000</td>\n",
              "      <td>-1.000000</td>\n",
              "      <td>1.000000</td>\n",
              "      <td>1.000000</td>\n",
              "      <td>1.000000</td>\n",
              "      <td>-1.000000</td>\n",
              "      <td>1.000000</td>\n",
              "      <td>1.000000</td>\n",
              "      <td>1.000000</td>\n",
              "      <td>1.000000</td>\n",
              "      <td>1.000000</td>\n",
              "      <td>1.000000</td>\n",
              "      <td>1.000000</td>\n",
              "      <td>0.000000</td>\n",
              "      <td>0.000000</td>\n",
              "      <td>-1.000000</td>\n",
              "      <td>1.000000</td>\n",
              "      <td>1.000000</td>\n",
              "      <td>0.000000</td>\n",
              "      <td>1.000000</td>\n",
              "      <td>1.000000</td>\n",
              "      <td>1.000000</td>\n",
              "      <td>1.000000</td>\n",
              "      <td>1.000000</td>\n",
              "      <td>1.000000</td>\n",
              "      <td>1.000000</td>\n",
              "      <td>1.000000</td>\n",
              "      <td>1.000000</td>\n",
              "      <td>1.000000</td>\n",
              "      <td>1.000000</td>\n",
              "      <td>1.000000</td>\n",
              "    </tr>\n",
              "    <tr>\n",
              "      <th>max</th>\n",
              "      <td>11055.000000</td>\n",
              "      <td>1.000000</td>\n",
              "      <td>1.000000</td>\n",
              "      <td>1.000000</td>\n",
              "      <td>1.000000</td>\n",
              "      <td>1.000000</td>\n",
              "      <td>1.000000</td>\n",
              "      <td>1.000000</td>\n",
              "      <td>1.000000</td>\n",
              "      <td>1.000000</td>\n",
              "      <td>1.000000</td>\n",
              "      <td>1.000000</td>\n",
              "      <td>1.000000</td>\n",
              "      <td>1.000000</td>\n",
              "      <td>1.000000</td>\n",
              "      <td>1.000000</td>\n",
              "      <td>1.000000</td>\n",
              "      <td>1.000000</td>\n",
              "      <td>1.000000</td>\n",
              "      <td>1.000000</td>\n",
              "      <td>1.000000</td>\n",
              "      <td>1.000000</td>\n",
              "      <td>1.000000</td>\n",
              "      <td>1.000000</td>\n",
              "      <td>1.000000</td>\n",
              "      <td>1.000000</td>\n",
              "      <td>1.000000</td>\n",
              "      <td>1.000000</td>\n",
              "      <td>1.000000</td>\n",
              "      <td>1.000000</td>\n",
              "      <td>1.000000</td>\n",
              "      <td>1.000000</td>\n",
              "    </tr>\n",
              "  </tbody>\n",
              "</table>\n",
              "</div>"
            ],
            "text/plain": [
              "              index  ...        Result\n",
              "count  11055.000000  ...  11055.000000\n",
              "mean    5528.000000  ...      0.113885\n",
              "std     3191.447947  ...      0.993539\n",
              "min        1.000000  ...     -1.000000\n",
              "25%     2764.500000  ...     -1.000000\n",
              "50%     5528.000000  ...      1.000000\n",
              "75%     8291.500000  ...      1.000000\n",
              "max    11055.000000  ...      1.000000\n",
              "\n",
              "[8 rows x 32 columns]"
            ]
          },
          "metadata": {
            "tags": []
          },
          "execution_count": 8
        }
      ]
    },
    {
      "cell_type": "code",
      "metadata": {
        "id": "PBbWNCd16_Tr",
        "colab_type": "code",
        "colab": {
          "base_uri": "https://localhost:8080/",
          "height": 571
        },
        "outputId": "9cc11d03-5814-40b3-86b1-ee708ec1b5c5"
      },
      "source": [
        "# checking data for null or missing values\n",
        "data0.isnull().sum()"
      ],
      "execution_count": 9,
      "outputs": [
        {
          "output_type": "execute_result",
          "data": {
            "text/plain": [
              "index                          0\n",
              "having_IPhaving_IP_Address     0\n",
              "URLURL_Length                  0\n",
              "Shortining_Service             0\n",
              "having_At_Symbol               0\n",
              "double_slash_redirecting       0\n",
              "Prefix_Suffix                  0\n",
              "having_Sub_Domain              0\n",
              "SSLfinal_State                 0\n",
              "Domain_registeration_length    0\n",
              "Favicon                        0\n",
              "port                           0\n",
              "HTTPS_token                    0\n",
              "Request_URL                    0\n",
              "URL_of_Anchor                  0\n",
              "Links_in_tags                  0\n",
              "SFH                            0\n",
              "Submitting_to_email            0\n",
              "Abnormal_URL                   0\n",
              "Redirect                       0\n",
              "on_mouseover                   0\n",
              "RightClick                     0\n",
              "popUpWidnow                    0\n",
              "Iframe                         0\n",
              "age_of_domain                  0\n",
              "DNSRecord                      0\n",
              "web_traffic                    0\n",
              "Page_Rank                      0\n",
              "Google_Index                   0\n",
              "Links_pointing_to_page         0\n",
              "Statistical_report             0\n",
              "Result                         0\n",
              "dtype: int64"
            ]
          },
          "metadata": {
            "tags": []
          },
          "execution_count": 9
        }
      ]
    },
    {
      "cell_type": "code",
      "metadata": {
        "id": "znwSOBZJ7Rgk",
        "colab_type": "code",
        "colab": {
          "base_uri": "https://localhost:8080/",
          "height": 215
        },
        "outputId": "3440ce92-4c88-4461-814d-93496b94f4ae"
      },
      "source": [
        "# shuffling data for better distribution while model training\n",
        "data0 = data0.sample(frac=1).reset_index(drop=True)\n",
        "data0.head()"
      ],
      "execution_count": 10,
      "outputs": [
        {
          "output_type": "execute_result",
          "data": {
            "text/html": [
              "<div>\n",
              "<style scoped>\n",
              "    .dataframe tbody tr th:only-of-type {\n",
              "        vertical-align: middle;\n",
              "    }\n",
              "\n",
              "    .dataframe tbody tr th {\n",
              "        vertical-align: top;\n",
              "    }\n",
              "\n",
              "    .dataframe thead th {\n",
              "        text-align: right;\n",
              "    }\n",
              "</style>\n",
              "<table border=\"1\" class=\"dataframe\">\n",
              "  <thead>\n",
              "    <tr style=\"text-align: right;\">\n",
              "      <th></th>\n",
              "      <th>index</th>\n",
              "      <th>having_IPhaving_IP_Address</th>\n",
              "      <th>URLURL_Length</th>\n",
              "      <th>Shortining_Service</th>\n",
              "      <th>having_At_Symbol</th>\n",
              "      <th>double_slash_redirecting</th>\n",
              "      <th>Prefix_Suffix</th>\n",
              "      <th>having_Sub_Domain</th>\n",
              "      <th>SSLfinal_State</th>\n",
              "      <th>Domain_registeration_length</th>\n",
              "      <th>Favicon</th>\n",
              "      <th>port</th>\n",
              "      <th>HTTPS_token</th>\n",
              "      <th>Request_URL</th>\n",
              "      <th>URL_of_Anchor</th>\n",
              "      <th>Links_in_tags</th>\n",
              "      <th>SFH</th>\n",
              "      <th>Submitting_to_email</th>\n",
              "      <th>Abnormal_URL</th>\n",
              "      <th>Redirect</th>\n",
              "      <th>on_mouseover</th>\n",
              "      <th>RightClick</th>\n",
              "      <th>popUpWidnow</th>\n",
              "      <th>Iframe</th>\n",
              "      <th>age_of_domain</th>\n",
              "      <th>DNSRecord</th>\n",
              "      <th>web_traffic</th>\n",
              "      <th>Page_Rank</th>\n",
              "      <th>Google_Index</th>\n",
              "      <th>Links_pointing_to_page</th>\n",
              "      <th>Statistical_report</th>\n",
              "      <th>Result</th>\n",
              "    </tr>\n",
              "  </thead>\n",
              "  <tbody>\n",
              "    <tr>\n",
              "      <th>0</th>\n",
              "      <td>149</td>\n",
              "      <td>1</td>\n",
              "      <td>-1</td>\n",
              "      <td>1</td>\n",
              "      <td>1</td>\n",
              "      <td>1</td>\n",
              "      <td>-1</td>\n",
              "      <td>-1</td>\n",
              "      <td>1</td>\n",
              "      <td>-1</td>\n",
              "      <td>1</td>\n",
              "      <td>1</td>\n",
              "      <td>1</td>\n",
              "      <td>1</td>\n",
              "      <td>0</td>\n",
              "      <td>0</td>\n",
              "      <td>-1</td>\n",
              "      <td>-1</td>\n",
              "      <td>1</td>\n",
              "      <td>0</td>\n",
              "      <td>1</td>\n",
              "      <td>1</td>\n",
              "      <td>1</td>\n",
              "      <td>1</td>\n",
              "      <td>1</td>\n",
              "      <td>-1</td>\n",
              "      <td>1</td>\n",
              "      <td>-1</td>\n",
              "      <td>1</td>\n",
              "      <td>-1</td>\n",
              "      <td>1</td>\n",
              "      <td>1</td>\n",
              "    </tr>\n",
              "    <tr>\n",
              "      <th>1</th>\n",
              "      <td>3838</td>\n",
              "      <td>1</td>\n",
              "      <td>-1</td>\n",
              "      <td>1</td>\n",
              "      <td>1</td>\n",
              "      <td>1</td>\n",
              "      <td>-1</td>\n",
              "      <td>0</td>\n",
              "      <td>0</td>\n",
              "      <td>-1</td>\n",
              "      <td>1</td>\n",
              "      <td>1</td>\n",
              "      <td>1</td>\n",
              "      <td>1</td>\n",
              "      <td>0</td>\n",
              "      <td>-1</td>\n",
              "      <td>-1</td>\n",
              "      <td>1</td>\n",
              "      <td>1</td>\n",
              "      <td>0</td>\n",
              "      <td>1</td>\n",
              "      <td>1</td>\n",
              "      <td>1</td>\n",
              "      <td>1</td>\n",
              "      <td>1</td>\n",
              "      <td>-1</td>\n",
              "      <td>-1</td>\n",
              "      <td>-1</td>\n",
              "      <td>1</td>\n",
              "      <td>1</td>\n",
              "      <td>1</td>\n",
              "      <td>-1</td>\n",
              "    </tr>\n",
              "    <tr>\n",
              "      <th>2</th>\n",
              "      <td>9376</td>\n",
              "      <td>1</td>\n",
              "      <td>-1</td>\n",
              "      <td>1</td>\n",
              "      <td>1</td>\n",
              "      <td>1</td>\n",
              "      <td>-1</td>\n",
              "      <td>0</td>\n",
              "      <td>-1</td>\n",
              "      <td>1</td>\n",
              "      <td>1</td>\n",
              "      <td>1</td>\n",
              "      <td>1</td>\n",
              "      <td>1</td>\n",
              "      <td>0</td>\n",
              "      <td>-1</td>\n",
              "      <td>-1</td>\n",
              "      <td>1</td>\n",
              "      <td>1</td>\n",
              "      <td>0</td>\n",
              "      <td>1</td>\n",
              "      <td>1</td>\n",
              "      <td>1</td>\n",
              "      <td>1</td>\n",
              "      <td>-1</td>\n",
              "      <td>1</td>\n",
              "      <td>1</td>\n",
              "      <td>-1</td>\n",
              "      <td>-1</td>\n",
              "      <td>0</td>\n",
              "      <td>1</td>\n",
              "      <td>-1</td>\n",
              "    </tr>\n",
              "    <tr>\n",
              "      <th>3</th>\n",
              "      <td>641</td>\n",
              "      <td>-1</td>\n",
              "      <td>-1</td>\n",
              "      <td>-1</td>\n",
              "      <td>1</td>\n",
              "      <td>-1</td>\n",
              "      <td>-1</td>\n",
              "      <td>0</td>\n",
              "      <td>-1</td>\n",
              "      <td>1</td>\n",
              "      <td>1</td>\n",
              "      <td>1</td>\n",
              "      <td>-1</td>\n",
              "      <td>-1</td>\n",
              "      <td>-1</td>\n",
              "      <td>1</td>\n",
              "      <td>-1</td>\n",
              "      <td>1</td>\n",
              "      <td>-1</td>\n",
              "      <td>1</td>\n",
              "      <td>1</td>\n",
              "      <td>1</td>\n",
              "      <td>1</td>\n",
              "      <td>1</td>\n",
              "      <td>-1</td>\n",
              "      <td>1</td>\n",
              "      <td>-1</td>\n",
              "      <td>-1</td>\n",
              "      <td>1</td>\n",
              "      <td>0</td>\n",
              "      <td>1</td>\n",
              "      <td>-1</td>\n",
              "    </tr>\n",
              "    <tr>\n",
              "      <th>4</th>\n",
              "      <td>2973</td>\n",
              "      <td>1</td>\n",
              "      <td>-1</td>\n",
              "      <td>1</td>\n",
              "      <td>1</td>\n",
              "      <td>1</td>\n",
              "      <td>-1</td>\n",
              "      <td>1</td>\n",
              "      <td>-1</td>\n",
              "      <td>-1</td>\n",
              "      <td>-1</td>\n",
              "      <td>-1</td>\n",
              "      <td>1</td>\n",
              "      <td>1</td>\n",
              "      <td>1</td>\n",
              "      <td>1</td>\n",
              "      <td>-1</td>\n",
              "      <td>-1</td>\n",
              "      <td>1</td>\n",
              "      <td>0</td>\n",
              "      <td>1</td>\n",
              "      <td>1</td>\n",
              "      <td>-1</td>\n",
              "      <td>1</td>\n",
              "      <td>1</td>\n",
              "      <td>-1</td>\n",
              "      <td>1</td>\n",
              "      <td>-1</td>\n",
              "      <td>1</td>\n",
              "      <td>1</td>\n",
              "      <td>-1</td>\n",
              "      <td>1</td>\n",
              "    </tr>\n",
              "  </tbody>\n",
              "</table>\n",
              "</div>"
            ],
            "text/plain": [
              "   index  having_IPhaving_IP_Address  ...  Statistical_report  Result\n",
              "0    149                           1  ...                   1       1\n",
              "1   3838                           1  ...                   1      -1\n",
              "2   9376                           1  ...                   1      -1\n",
              "3    641                          -1  ...                   1      -1\n",
              "4   2973                           1  ...                  -1       1\n",
              "\n",
              "[5 rows x 32 columns]"
            ]
          },
          "metadata": {
            "tags": []
          },
          "execution_count": 10
        }
      ]
    },
    {
      "cell_type": "code",
      "metadata": {
        "id": "K5Qv90JE7sxp",
        "colab_type": "code",
        "colab": {}
      },
      "source": [
        "# droping index it has no significance in model training\n",
        "data = data0.drop(['index'], axis = 1).copy()"
      ],
      "execution_count": 11,
      "outputs": []
    },
    {
      "cell_type": "code",
      "metadata": {
        "id": "WSha-pOV8FW8",
        "colab_type": "code",
        "colab": {
          "base_uri": "https://localhost:8080/",
          "height": 215
        },
        "outputId": "b07542c8-8a14-44ad-916c-f041be6e6238"
      },
      "source": [
        "data.head()"
      ],
      "execution_count": 12,
      "outputs": [
        {
          "output_type": "execute_result",
          "data": {
            "text/html": [
              "<div>\n",
              "<style scoped>\n",
              "    .dataframe tbody tr th:only-of-type {\n",
              "        vertical-align: middle;\n",
              "    }\n",
              "\n",
              "    .dataframe tbody tr th {\n",
              "        vertical-align: top;\n",
              "    }\n",
              "\n",
              "    .dataframe thead th {\n",
              "        text-align: right;\n",
              "    }\n",
              "</style>\n",
              "<table border=\"1\" class=\"dataframe\">\n",
              "  <thead>\n",
              "    <tr style=\"text-align: right;\">\n",
              "      <th></th>\n",
              "      <th>having_IPhaving_IP_Address</th>\n",
              "      <th>URLURL_Length</th>\n",
              "      <th>Shortining_Service</th>\n",
              "      <th>having_At_Symbol</th>\n",
              "      <th>double_slash_redirecting</th>\n",
              "      <th>Prefix_Suffix</th>\n",
              "      <th>having_Sub_Domain</th>\n",
              "      <th>SSLfinal_State</th>\n",
              "      <th>Domain_registeration_length</th>\n",
              "      <th>Favicon</th>\n",
              "      <th>port</th>\n",
              "      <th>HTTPS_token</th>\n",
              "      <th>Request_URL</th>\n",
              "      <th>URL_of_Anchor</th>\n",
              "      <th>Links_in_tags</th>\n",
              "      <th>SFH</th>\n",
              "      <th>Submitting_to_email</th>\n",
              "      <th>Abnormal_URL</th>\n",
              "      <th>Redirect</th>\n",
              "      <th>on_mouseover</th>\n",
              "      <th>RightClick</th>\n",
              "      <th>popUpWidnow</th>\n",
              "      <th>Iframe</th>\n",
              "      <th>age_of_domain</th>\n",
              "      <th>DNSRecord</th>\n",
              "      <th>web_traffic</th>\n",
              "      <th>Page_Rank</th>\n",
              "      <th>Google_Index</th>\n",
              "      <th>Links_pointing_to_page</th>\n",
              "      <th>Statistical_report</th>\n",
              "      <th>Result</th>\n",
              "    </tr>\n",
              "  </thead>\n",
              "  <tbody>\n",
              "    <tr>\n",
              "      <th>0</th>\n",
              "      <td>1</td>\n",
              "      <td>-1</td>\n",
              "      <td>1</td>\n",
              "      <td>1</td>\n",
              "      <td>1</td>\n",
              "      <td>-1</td>\n",
              "      <td>-1</td>\n",
              "      <td>1</td>\n",
              "      <td>-1</td>\n",
              "      <td>1</td>\n",
              "      <td>1</td>\n",
              "      <td>1</td>\n",
              "      <td>1</td>\n",
              "      <td>0</td>\n",
              "      <td>0</td>\n",
              "      <td>-1</td>\n",
              "      <td>-1</td>\n",
              "      <td>1</td>\n",
              "      <td>0</td>\n",
              "      <td>1</td>\n",
              "      <td>1</td>\n",
              "      <td>1</td>\n",
              "      <td>1</td>\n",
              "      <td>1</td>\n",
              "      <td>-1</td>\n",
              "      <td>1</td>\n",
              "      <td>-1</td>\n",
              "      <td>1</td>\n",
              "      <td>-1</td>\n",
              "      <td>1</td>\n",
              "      <td>1</td>\n",
              "    </tr>\n",
              "    <tr>\n",
              "      <th>1</th>\n",
              "      <td>1</td>\n",
              "      <td>-1</td>\n",
              "      <td>1</td>\n",
              "      <td>1</td>\n",
              "      <td>1</td>\n",
              "      <td>-1</td>\n",
              "      <td>0</td>\n",
              "      <td>0</td>\n",
              "      <td>-1</td>\n",
              "      <td>1</td>\n",
              "      <td>1</td>\n",
              "      <td>1</td>\n",
              "      <td>1</td>\n",
              "      <td>0</td>\n",
              "      <td>-1</td>\n",
              "      <td>-1</td>\n",
              "      <td>1</td>\n",
              "      <td>1</td>\n",
              "      <td>0</td>\n",
              "      <td>1</td>\n",
              "      <td>1</td>\n",
              "      <td>1</td>\n",
              "      <td>1</td>\n",
              "      <td>1</td>\n",
              "      <td>-1</td>\n",
              "      <td>-1</td>\n",
              "      <td>-1</td>\n",
              "      <td>1</td>\n",
              "      <td>1</td>\n",
              "      <td>1</td>\n",
              "      <td>-1</td>\n",
              "    </tr>\n",
              "    <tr>\n",
              "      <th>2</th>\n",
              "      <td>1</td>\n",
              "      <td>-1</td>\n",
              "      <td>1</td>\n",
              "      <td>1</td>\n",
              "      <td>1</td>\n",
              "      <td>-1</td>\n",
              "      <td>0</td>\n",
              "      <td>-1</td>\n",
              "      <td>1</td>\n",
              "      <td>1</td>\n",
              "      <td>1</td>\n",
              "      <td>1</td>\n",
              "      <td>1</td>\n",
              "      <td>0</td>\n",
              "      <td>-1</td>\n",
              "      <td>-1</td>\n",
              "      <td>1</td>\n",
              "      <td>1</td>\n",
              "      <td>0</td>\n",
              "      <td>1</td>\n",
              "      <td>1</td>\n",
              "      <td>1</td>\n",
              "      <td>1</td>\n",
              "      <td>-1</td>\n",
              "      <td>1</td>\n",
              "      <td>1</td>\n",
              "      <td>-1</td>\n",
              "      <td>-1</td>\n",
              "      <td>0</td>\n",
              "      <td>1</td>\n",
              "      <td>-1</td>\n",
              "    </tr>\n",
              "    <tr>\n",
              "      <th>3</th>\n",
              "      <td>-1</td>\n",
              "      <td>-1</td>\n",
              "      <td>-1</td>\n",
              "      <td>1</td>\n",
              "      <td>-1</td>\n",
              "      <td>-1</td>\n",
              "      <td>0</td>\n",
              "      <td>-1</td>\n",
              "      <td>1</td>\n",
              "      <td>1</td>\n",
              "      <td>1</td>\n",
              "      <td>-1</td>\n",
              "      <td>-1</td>\n",
              "      <td>-1</td>\n",
              "      <td>1</td>\n",
              "      <td>-1</td>\n",
              "      <td>1</td>\n",
              "      <td>-1</td>\n",
              "      <td>1</td>\n",
              "      <td>1</td>\n",
              "      <td>1</td>\n",
              "      <td>1</td>\n",
              "      <td>1</td>\n",
              "      <td>-1</td>\n",
              "      <td>1</td>\n",
              "      <td>-1</td>\n",
              "      <td>-1</td>\n",
              "      <td>1</td>\n",
              "      <td>0</td>\n",
              "      <td>1</td>\n",
              "      <td>-1</td>\n",
              "    </tr>\n",
              "    <tr>\n",
              "      <th>4</th>\n",
              "      <td>1</td>\n",
              "      <td>-1</td>\n",
              "      <td>1</td>\n",
              "      <td>1</td>\n",
              "      <td>1</td>\n",
              "      <td>-1</td>\n",
              "      <td>1</td>\n",
              "      <td>-1</td>\n",
              "      <td>-1</td>\n",
              "      <td>-1</td>\n",
              "      <td>-1</td>\n",
              "      <td>1</td>\n",
              "      <td>1</td>\n",
              "      <td>1</td>\n",
              "      <td>1</td>\n",
              "      <td>-1</td>\n",
              "      <td>-1</td>\n",
              "      <td>1</td>\n",
              "      <td>0</td>\n",
              "      <td>1</td>\n",
              "      <td>1</td>\n",
              "      <td>-1</td>\n",
              "      <td>1</td>\n",
              "      <td>1</td>\n",
              "      <td>-1</td>\n",
              "      <td>1</td>\n",
              "      <td>-1</td>\n",
              "      <td>1</td>\n",
              "      <td>1</td>\n",
              "      <td>-1</td>\n",
              "      <td>1</td>\n",
              "    </tr>\n",
              "  </tbody>\n",
              "</table>\n",
              "</div>"
            ],
            "text/plain": [
              "   having_IPhaving_IP_Address  URLURL_Length  ...  Statistical_report  Result\n",
              "0                           1             -1  ...                   1       1\n",
              "1                           1             -1  ...                   1      -1\n",
              "2                           1             -1  ...                   1      -1\n",
              "3                          -1             -1  ...                   1      -1\n",
              "4                           1             -1  ...                  -1       1\n",
              "\n",
              "[5 rows x 31 columns]"
            ]
          },
          "metadata": {
            "tags": []
          },
          "execution_count": 12
        }
      ]
    },
    {
      "cell_type": "code",
      "metadata": {
        "id": "ZOzFHS6s8Idb",
        "colab_type": "code",
        "colab": {
          "base_uri": "https://localhost:8080/",
          "height": 34
        },
        "outputId": "428a3ef3-75c3-4743-88dc-99f9a57e7611"
      },
      "source": [
        "# seperating and assigning features and target columns to X and Y\n",
        "Y = data['Result']\n",
        "X = data.drop('Result', axis = 1)\n",
        "X.shape, Y.shape"
      ],
      "execution_count": 13,
      "outputs": [
        {
          "output_type": "execute_result",
          "data": {
            "text/plain": [
              "((11055, 30), (11055,))"
            ]
          },
          "metadata": {
            "tags": []
          },
          "execution_count": 13
        }
      ]
    },
    {
      "cell_type": "code",
      "metadata": {
        "id": "vd_evsjR8_ku",
        "colab_type": "code",
        "colab": {
          "base_uri": "https://localhost:8080/",
          "height": 34
        },
        "outputId": "b41fdb38-fe55-41ad-b663-812ccda656d1"
      },
      "source": [
        "#splitting the data into train and test sets: 80 - 20 split\n",
        "from sklearn.model_selection import train_test_split\n",
        "\n",
        "X_train, X_test, Y_train, Y_test = train_test_split(X, Y, test_size = 0.2, random_state = 12)\n",
        "X_train.shape, X_test.shape, Y_train.shape, Y_test.shape"
      ],
      "execution_count": 14,
      "outputs": [
        {
          "output_type": "execute_result",
          "data": {
            "text/plain": [
              "((8844, 30), (2211, 30), (8844,), (2211,))"
            ]
          },
          "metadata": {
            "tags": []
          },
          "execution_count": 14
        }
      ]
    },
    {
      "cell_type": "markdown",
      "metadata": {
        "id": "A3qr23Ch9g_n",
        "colab_type": "text"
      },
      "source": [
        "**Building Models and Training them**"
      ]
    },
    {
      "cell_type": "code",
      "metadata": {
        "id": "XlCVGhnj9c5Y",
        "colab_type": "code",
        "colab": {}
      },
      "source": [
        "#importing packages\n",
        "from sklearn.metrics import accuracy_score"
      ],
      "execution_count": 15,
      "outputs": []
    },
    {
      "cell_type": "code",
      "metadata": {
        "id": "Q3oktgpZLdyA",
        "colab_type": "code",
        "colab": {}
      },
      "source": [
        "# Creating holders to store the model performance results\n",
        "ML_Model = []\n",
        "accuracy_train = []\n",
        "accuracy_test = []\n",
        "\n",
        "#function to call for storing the results\n",
        "def storeResults(model, a,b):\n",
        "  ML_Model.append(model)\n",
        "  accuracy_train.append(round(a, 3))\n",
        "  accuracy_test.append(round(b, 3))"
      ],
      "execution_count": 16,
      "outputs": []
    },
    {
      "cell_type": "markdown",
      "metadata": {
        "id": "SqMGrq8e98Qi",
        "colab_type": "text"
      },
      "source": [
        "**Decision Tree Classifier**"
      ]
    },
    {
      "cell_type": "code",
      "metadata": {
        "id": "xSTAIXCi9sw1",
        "colab_type": "code",
        "colab": {
          "base_uri": "https://localhost:8080/",
          "height": 118
        },
        "outputId": "ed95e97d-753e-4da6-f051-024971e919e5"
      },
      "source": [
        "# Decision Tree model \n",
        "from sklearn.tree import DecisionTreeClassifier\n",
        "\n",
        "# instantiate the model \n",
        "tree = DecisionTreeClassifier(max_depth = 5)\n",
        "\n",
        "# fit the model \n",
        "tree.fit(X_train, Y_train)"
      ],
      "execution_count": 17,
      "outputs": [
        {
          "output_type": "execute_result",
          "data": {
            "text/plain": [
              "DecisionTreeClassifier(ccp_alpha=0.0, class_weight=None, criterion='gini',\n",
              "                       max_depth=5, max_features=None, max_leaf_nodes=None,\n",
              "                       min_impurity_decrease=0.0, min_impurity_split=None,\n",
              "                       min_samples_leaf=1, min_samples_split=2,\n",
              "                       min_weight_fraction_leaf=0.0, presort='deprecated',\n",
              "                       random_state=None, splitter='best')"
            ]
          },
          "metadata": {
            "tags": []
          },
          "execution_count": 17
        }
      ]
    },
    {
      "cell_type": "code",
      "metadata": {
        "id": "wbyKK4WK-KI_",
        "colab_type": "code",
        "colab": {}
      },
      "source": [
        "#predicting the target value from the model for the samples\n",
        "Y_test_tree = tree.predict(X_test)\n",
        "Y_train_tree = tree.predict(X_train)"
      ],
      "execution_count": 18,
      "outputs": []
    },
    {
      "cell_type": "code",
      "metadata": {
        "id": "TxfHfbfL-Tbt",
        "colab_type": "code",
        "colab": {
          "base_uri": "https://localhost:8080/",
          "height": 50
        },
        "outputId": "4420a52a-baac-49ab-8f8a-e4173376a69f"
      },
      "source": [
        "#performance test\n",
        "\n",
        "#computing the accuracy of the model performance\n",
        "accuracy_train_tree = accuracy_score(Y_train,Y_train_tree)\n",
        "accuracy_test_tree = accuracy_score(Y_test,Y_test_tree)\n",
        "\n",
        "print(\"Decision Tree: Accuracy on training Data: {:.3f}\".format(accuracy_train_tree))\n",
        "print(\"Decision Tree: Accuracy on test Data: {:.3f}\".format(accuracy_test_tree))"
      ],
      "execution_count": 19,
      "outputs": [
        {
          "output_type": "stream",
          "text": [
            "Decision Tree: Accuracy on training Data: 0.924\n",
            "Decision Tree: Accuracy on test Data: 0.916\n"
          ],
          "name": "stdout"
        }
      ]
    },
    {
      "cell_type": "code",
      "metadata": {
        "id": "BAf5iB8E-l9t",
        "colab_type": "code",
        "colab": {
          "base_uri": "https://localhost:8080/",
          "height": 442
        },
        "outputId": "9e1eb9e8-2e86-47e2-c4c3-404196a11740"
      },
      "source": [
        "plt.figure(figsize=(9,7))\n",
        "n_features = X_train.shape[1]\n",
        "plt.barh(range(n_features), tree.feature_importances_, align='center')\n",
        "plt.yticks(np.arange(n_features), X_train.columns)\n",
        "plt.xlabel(\"Feature importance\")\n",
        "plt.ylabel(\"Feature\")\n",
        "plt.show()"
      ],
      "execution_count": 20,
      "outputs": [
        {
          "output_type": "display_data",
          "data": {
            "image/png": "[encoded data removed]",
            "text/plain": [
              "<Figure size 648x504 with 1 Axes>"
            ]
          },
          "metadata": {
            "tags": [],
            "needs_background": "light"
          }
        }
      ]
    },
    {
      "cell_type": "code",
      "metadata": {
        "id": "3Q3rnpX9-y8X",
        "colab_type": "code",
        "colab": {}
      },
      "source": [
        "storeResults('Decision Tree', accuracy_train_tree, accuracy_test_tree)"
      ],
      "execution_count": 21,
      "outputs": []
    },
    {
      "cell_type": "markdown",
      "metadata": {
        "id": "GKYZU6y4Lwq5",
        "colab_type": "text"
      },
      "source": [
        "**Logistic Regression**"
      ]
    },
    {
      "cell_type": "code",
      "metadata": {
        "id": "m7u3DIr8L15A",
        "colab_type": "code",
        "colab": {
          "base_uri": "https://localhost:8080/",
          "height": 101
        },
        "outputId": "2c326d22-2c1d-49fd-e47d-841c5ae5aa70"
      },
      "source": [
        "# Logistic Regression Model\n",
        "from sklearn.linear_model import LogisticRegression\n",
        "\n",
        "# instantiate the model\n",
        "logReg = LogisticRegression(solver='liblinear', penalty='l1')\n",
        "\n",
        "# fit the model\n",
        "logReg.fit(X_train, Y_train)"
      ],
      "execution_count": 27,
      "outputs": [
        {
          "output_type": "execute_result",
          "data": {
            "text/plain": [
              "LogisticRegression(C=1.0, class_weight=None, dual=False, fit_intercept=True,\n",
              "                   intercept_scaling=1, l1_ratio=None, max_iter=100,\n",
              "                   multi_class='auto', n_jobs=None, penalty='l1',\n",
              "                   random_state=None, solver='liblinear', tol=0.0001, verbose=0,\n",
              "                   warm_start=False)"
            ]
          },
          "metadata": {
            "tags": []
          },
          "execution_count": 27
        }
      ]
    },
    {
      "cell_type": "code",
      "metadata": {
        "id": "ZmeV5SrBL79J",
        "colab_type": "code",
        "colab": {}
      },
      "source": [
        "# predicting the target valuesfrom model for the sample\n",
        "y_test_logReg = logReg.predict(X_test)\n",
        "y_train_logReg = logReg.predict(X_train)"
      ],
      "execution_count": 28,
      "outputs": []
    },
    {
      "cell_type": "code",
      "metadata": {
        "id": "LDFZc5zMNhOS",
        "colab_type": "code",
        "colab": {
          "base_uri": "https://localhost:8080/",
          "height": 50
        },
        "outputId": "19890d2a-8e7c-4893-8220-30d5ac804c29"
      },
      "source": [
        "# Computing the accuracy of model performance\n",
        "acc_train_logReg =accuracy_score(Y_train, y_train_logReg)\n",
        "acc_test_logReg = accuracy_score(Y_test, y_test_logReg)\n",
        "\n",
        "print(\"Logistic Regression: Accuracy on training Data: {:.3f}\".format(acc_train_logReg))\n",
        "print(\"Logistic Regression: Accuracy on testing Data: {:.3f}\".format(acc_test_logReg))"
      ],
      "execution_count": 29,
      "outputs": [
        {
          "output_type": "stream",
          "text": [
            "Logistic Regression: Accuracy on training Data: 0.929\n",
            "Logistic Regression: Accuracy on testing Data: 0.923\n"
          ],
          "name": "stdout"
        }
      ]
    },
    {
      "cell_type": "code",
      "metadata": {
        "id": "Ct2s7dFlOxW4",
        "colab_type": "code",
        "colab": {}
      },
      "source": [
        "storeResults('Logistic Regression', acc_train_logReg, acc_test_logReg)"
      ],
      "execution_count": 30,
      "outputs": []
    },
    {
      "cell_type": "markdown",
      "metadata": {
        "id": "WnfDU6ZbMQVM",
        "colab_type": "text"
      },
      "source": [
        "**Random Classifier**"
      ]
    },
    {
      "cell_type": "code",
      "metadata": {
        "id": "8iZPtaLG_CLy",
        "colab_type": "code",
        "colab": {
          "base_uri": "https://localhost:8080/",
          "height": 151
        },
        "outputId": "ddb6e952-dda7-4367-f4f6-7c7431f12fab"
      },
      "source": [
        "# Random Forest model\n",
        "from sklearn.ensemble import RandomForestClassifier\n",
        "\n",
        "# instantiate the model\n",
        "forest = RandomForestClassifier(max_depth=5)\n",
        "\n",
        "# fit the model \n",
        "forest.fit(X_train, Y_train)"
      ],
      "execution_count": 32,
      "outputs": [
        {
          "output_type": "execute_result",
          "data": {
            "text/plain": [
              "RandomForestClassifier(bootstrap=True, ccp_alpha=0.0, class_weight=None,\n",
              "                       criterion='gini', max_depth=5, max_features='auto',\n",
              "                       max_leaf_nodes=None, max_samples=None,\n",
              "                       min_impurity_decrease=0.0, min_impurity_split=None,\n",
              "                       min_samples_leaf=1, min_samples_split=2,\n",
              "                       min_weight_fraction_leaf=0.0, n_estimators=100,\n",
              "                       n_jobs=None, oob_score=False, random_state=None,\n",
              "                       verbose=0, warm_start=False)"
            ]
          },
          "metadata": {
            "tags": []
          },
          "execution_count": 32
        }
      ]
    },
    {
      "cell_type": "code",
      "metadata": {
        "id": "H2U-QhI9Mx8g",
        "colab_type": "code",
        "colab": {}
      },
      "source": [
        "# predicting the target values from model for the samples\n",
        "\n",
        "y_test_forest = forest.predict(X_test)\n",
        "y_train_forest = forest.predict(X_train)"
      ],
      "execution_count": 33,
      "outputs": []
    },
    {
      "cell_type": "code",
      "metadata": {
        "id": "A2s6tg2NODp6",
        "colab_type": "code",
        "colab": {
          "base_uri": "https://localhost:8080/",
          "height": 50
        },
        "outputId": "6bfca18c-c3ae-4b68-9578-71dba00ee02a"
      },
      "source": [
        "#computing the accuracy of the model performance\n",
        "acc_train_forest = accuracy_score(Y_train,y_train_forest)\n",
        "acc_test_forest = accuracy_score(Y_test,y_test_forest)\n",
        "\n",
        "print(\"Random forest: Accuracy on training Data: {:.3f}\".format(acc_train_forest))\n",
        "print(\"Random forest: Accuracy on test Data: {:.3f}\".format(acc_test_forest))"
      ],
      "execution_count": 34,
      "outputs": [
        {
          "output_type": "stream",
          "text": [
            "Random forest: Accuracy on training Data: 0.935\n",
            "Random forest: Accuracy on test Data: 0.926\n"
          ],
          "name": "stdout"
        }
      ]
    },
    {
      "cell_type": "code",
      "metadata": {
        "id": "SllBZY-mO8mm",
        "colab_type": "code",
        "colab": {
          "base_uri": "https://localhost:8080/",
          "height": 442
        },
        "outputId": "64f12eed-cbed-460a-f40e-3046a07e1646"
      },
      "source": [
        "#checking the feature improtance in the model\n",
        "plt.figure(figsize=(9,7))\n",
        "n_features = X_train.shape[1]\n",
        "plt.barh(range(n_features), forest.feature_importances_, align='center')\n",
        "plt.yticks(np.arange(n_features), X_train.columns)\n",
        "plt.xlabel(\"Feature importance\")\n",
        "plt.ylabel(\"Feature\")\n",
        "plt.show()"
      ],
      "execution_count": 35,
      "outputs": [
        {
          "output_type": "display_data",
          "data": {
            "image/png": "[encoded data removed]",
            "text/plain": [
              "<Figure size 648x504 with 1 Axes>"
            ]
          },
          "metadata": {
            "tags": [],
            "needs_background": "light"
          }
        }
      ]
    },
    {
      "cell_type": "code",
      "metadata": {
        "id": "X7eMoaoNPwz4",
        "colab_type": "code",
        "colab": {}
      },
      "source": [
        "storeResults('Random Forest', acc_train_forest, acc_test_forest)"
      ],
      "execution_count": 36,
      "outputs": []
    },
    {
      "cell_type": "markdown",
      "metadata": {
        "id": "mk1e7t-3P-4j",
        "colab_type": "text"
      },
      "source": [
        "**Multilayer Perceptiontrons (MLPs) : Deep Learning**"
      ]
    },
    {
      "cell_type": "code",
      "metadata": {
        "id": "z-V6GCNuP31A",
        "colab_type": "code",
        "colab": {
          "base_uri": "https://localhost:8080/",
          "height": 151
        },
        "outputId": "27a6081e-3455-4e4c-8a6c-60461507aac0"
      },
      "source": [
        "# Multilayer Perceptrons model\n",
        "from sklearn.neural_network import MLPClassifier\n",
        "\n",
        "# instantiate the model\n",
        "mlp = MLPClassifier(alpha=0.001, hidden_layer_sizes=([100,100,100]))\n",
        "\n",
        "# fit the model \n",
        "mlp.fit(X_train, Y_train)"
      ],
      "execution_count": 37,
      "outputs": [
        {
          "output_type": "execute_result",
          "data": {
            "text/plain": [
              "MLPClassifier(activation='relu', alpha=0.001, batch_size='auto', beta_1=0.9,\n",
              "              beta_2=0.999, early_stopping=False, epsilon=1e-08,\n",
              "              hidden_layer_sizes=[100, 100, 100], learning_rate='constant',\n",
              "              learning_rate_init=0.001, max_fun=15000, max_iter=200,\n",
              "              momentum=0.9, n_iter_no_change=10, nesterovs_momentum=True,\n",
              "              power_t=0.5, random_state=None, shuffle=True, solver='adam',\n",
              "              tol=0.0001, validation_fraction=0.1, verbose=False,\n",
              "              warm_start=False)"
            ]
          },
          "metadata": {
            "tags": []
          },
          "execution_count": 37
        }
      ]
    },
    {
      "cell_type": "code",
      "metadata": {
        "id": "mXz9yh8sQLQ5",
        "colab_type": "code",
        "colab": {}
      },
      "source": [
        "#predicting the target value from the model for the samples\n",
        "y_test_mlp = mlp.predict(X_test)\n",
        "y_train_mlp = mlp.predict(X_train)"
      ],
      "execution_count": 38,
      "outputs": []
    },
    {
      "cell_type": "code",
      "metadata": {
        "id": "iaBv6e9XQUNq",
        "colab_type": "code",
        "colab": {
          "base_uri": "https://localhost:8080/",
          "height": 50
        },
        "outputId": "a887bf49-94ab-4b2c-ff29-252d836d7216"
      },
      "source": [
        "#computing the accuracy of the model performance\n",
        "acc_train_mlp = accuracy_score(Y_train,y_train_mlp)\n",
        "acc_test_mlp = accuracy_score(Y_test,y_test_mlp)\n",
        "\n",
        "print(\"Multilayer Perceptrons: Accuracy on training Data: {:.3f}\".format(acc_train_mlp))\n",
        "print(\"Multilayer Perceptrons: Accuracy on test Data: {:.3f}\".format(acc_test_mlp))"
      ],
      "execution_count": 39,
      "outputs": [
        {
          "output_type": "stream",
          "text": [
            "Multilayer Perceptrons: Accuracy on training Data: 0.989\n",
            "Multilayer Perceptrons: Accuracy on test Data: 0.962\n"
          ],
          "name": "stdout"
        }
      ]
    },
    {
      "cell_type": "code",
      "metadata": {
        "id": "62ubMPDiQba6",
        "colab_type": "code",
        "colab": {}
      },
      "source": [
        "storeResults('Multilayer Perceptrons', acc_train_mlp, acc_test_mlp)"
      ],
      "execution_count": 40,
      "outputs": []
    },
    {
      "cell_type": "markdown",
      "metadata": {
        "id": "Yy74XopBQgAF",
        "colab_type": "text"
      },
      "source": [
        "**XGBoost Classifier**"
      ]
    },
    {
      "cell_type": "code",
      "metadata": {
        "id": "zMtSSO0AQemB",
        "colab_type": "code",
        "colab": {
          "base_uri": "https://localhost:8080/",
          "height": 134
        },
        "outputId": "9e1dabb5-781c-4ebc-8076-e158874cf1fa"
      },
      "source": [
        "#XGBoost Classification model\n",
        "from xgboost import XGBClassifier\n",
        "\n",
        "# instantiate the model\n",
        "xgb = XGBClassifier(learning_rate=0.4,max_depth=7)\n",
        "\n",
        "#fit the model\n",
        "xgb.fit(X_train, Y_train)"
      ],
      "execution_count": 41,
      "outputs": [
        {
          "output_type": "execute_result",
          "data": {
            "text/plain": [
              "XGBClassifier(base_score=0.5, booster='gbtree', colsample_bylevel=1,\n",
              "              colsample_bynode=1, colsample_bytree=1, gamma=0,\n",
              "              learning_rate=0.4, max_delta_step=0, max_depth=7,\n",
              "              min_child_weight=1, missing=None, n_estimators=100, n_jobs=1,\n",
              "              nthread=None, objective='binary:logistic', random_state=0,\n",
              "              reg_alpha=0, reg_lambda=1, scale_pos_weight=1, seed=None,\n",
              "              silent=None, subsample=1, verbosity=1)"
            ]
          },
          "metadata": {
            "tags": []
          },
          "execution_count": 41
        }
      ]
    },
    {
      "cell_type": "code",
      "metadata": {
        "id": "9XPjiLjSQqcl",
        "colab_type": "code",
        "colab": {}
      },
      "source": [
        "#predicting the target value from the model for the samples\n",
        "y_test_xgb = xgb.predict(X_test)\n",
        "y_train_xgb = xgb.predict(X_train)"
      ],
      "execution_count": 42,
      "outputs": []
    },
    {
      "cell_type": "code",
      "metadata": {
        "id": "AzsTu6pjQuMo",
        "colab_type": "code",
        "colab": {
          "base_uri": "https://localhost:8080/",
          "height": 50
        },
        "outputId": "4d488923-e3f9-42a1-fc29-c2253b178372"
      },
      "source": [
        "#computing the accuracy of the model performance\n",
        "acc_train_xgb = accuracy_score(Y_train,y_train_xgb)\n",
        "acc_test_xgb = accuracy_score(Y_test,y_test_xgb)\n",
        "\n",
        "print(\"XGBoost: Accuracy on training Data: {:.3f}\".format(acc_train_xgb))\n",
        "print(\"XGBoost : Accuracy on test Data: {:.3f}\".format(acc_test_xgb))"
      ],
      "execution_count": 43,
      "outputs": [
        {
          "output_type": "stream",
          "text": [
            "XGBoost: Accuracy on training Data: 0.990\n",
            "XGBoost : Accuracy on test Data: 0.967\n"
          ],
          "name": "stdout"
        }
      ]
    },
    {
      "cell_type": "code",
      "metadata": {
        "id": "TVzjafmBQy4d",
        "colab_type": "code",
        "colab": {}
      },
      "source": [
        "storeResults('XGBoost', acc_train_xgb, acc_test_xgb)"
      ],
      "execution_count": 44,
      "outputs": []
    },
    {
      "cell_type": "markdown",
      "metadata": {
        "id": "YdiyL3viR3fQ",
        "colab_type": "text"
      },
      "source": [
        "**Support Vector Machines**"
      ]
    },
    {
      "cell_type": "code",
      "metadata": {
        "id": "yyMYITpJR0lg",
        "colab_type": "code",
        "colab": {
          "base_uri": "https://localhost:8080/",
          "height": 84
        },
        "outputId": "3a2b66d9-147a-418d-915a-59e7fd01dfc8"
      },
      "source": [
        "#Support vector machine model\n",
        "from sklearn.svm import SVC\n",
        "\n",
        "# instantiate the model\n",
        "svm = SVC(kernel='linear', C=1.0, random_state=12)\n",
        "\n",
        "#fit the model\n",
        "svm.fit(X_train, Y_train)"
      ],
      "execution_count": 45,
      "outputs": [
        {
          "output_type": "execute_result",
          "data": {
            "text/plain": [
              "SVC(C=1.0, break_ties=False, cache_size=200, class_weight=None, coef0=0.0,\n",
              "    decision_function_shape='ovr', degree=3, gamma='scale', kernel='linear',\n",
              "    max_iter=-1, probability=False, random_state=12, shrinking=True, tol=0.001,\n",
              "    verbose=False)"
            ]
          },
          "metadata": {
            "tags": []
          },
          "execution_count": 45
        }
      ]
    },
    {
      "cell_type": "code",
      "metadata": {
        "id": "9M6jQbrISBVa",
        "colab_type": "code",
        "colab": {}
      },
      "source": [
        "#predicting the target value from the model for the samples\n",
        "y_test_svm = svm.predict(X_test)\n",
        "y_train_svm = svm.predict(X_train)"
      ],
      "execution_count": 46,
      "outputs": []
    },
    {
      "cell_type": "code",
      "metadata": {
        "id": "vUNvFlusSD35",
        "colab_type": "code",
        "colab": {
          "base_uri": "https://localhost:8080/",
          "height": 50
        },
        "outputId": "c77cdf70-4fe8-420c-dcb8-b386a1e3f191"
      },
      "source": [
        "# performance evaluation\n",
        "#computing the accuracy of the model performance\n",
        "acc_train_svm = accuracy_score(Y_train,y_train_svm)\n",
        "acc_test_svm = accuracy_score(Y_test,y_test_svm)\n",
        "\n",
        "print(\"SVM: Accuracy on training Data: {:.3f}\".format(acc_train_svm))\n",
        "print(\"SVM : Accuracy on test Data: {:.3f}\".format(acc_test_svm))"
      ],
      "execution_count": 47,
      "outputs": [
        {
          "output_type": "stream",
          "text": [
            "SVM: Accuracy on training Data: 0.929\n",
            "SVM : Accuracy on test Data: 0.923\n"
          ],
          "name": "stdout"
        }
      ]
    },
    {
      "cell_type": "code",
      "metadata": {
        "id": "OygdIX6lSMIS",
        "colab_type": "code",
        "colab": {}
      },
      "source": [
        "storeResults('SVM', acc_train_svm, acc_test_svm)"
      ],
      "execution_count": 48,
      "outputs": []
    },
    {
      "cell_type": "markdown",
      "metadata": {
        "id": "l-hhws3xSPww",
        "colab_type": "text"
      },
      "source": [
        "**Model Comparisons**"
      ]
    },
    {
      "cell_type": "code",
      "metadata": {
        "id": "UnI7q8m2SOpd",
        "colab_type": "code",
        "colab": {
          "base_uri": "https://localhost:8080/",
          "height": 225
        },
        "outputId": "66158bc1-4fd2-4cbf-a3c7-b89ecb193ece"
      },
      "source": [
        "#creating dataframe\n",
        "results = pd.DataFrame({ 'ML Model': ML_Model, 'Train Accuracy': accuracy_train, 'Test Accuracy': accuracy_test})\n",
        "results"
      ],
      "execution_count": 49,
      "outputs": [
        {
          "output_type": "execute_result",
          "data": {
            "text/html": [
              "<div>\n",
              "<style scoped>\n",
              "    .dataframe tbody tr th:only-of-type {\n",
              "        vertical-align: middle;\n",
              "    }\n",
              "\n",
              "    .dataframe tbody tr th {\n",
              "        vertical-align: top;\n",
              "    }\n",
              "\n",
              "    .dataframe thead th {\n",
              "        text-align: right;\n",
              "    }\n",
              "</style>\n",
              "<table border=\"1\" class=\"dataframe\">\n",
              "  <thead>\n",
              "    <tr style=\"text-align: right;\">\n",
              "      <th></th>\n",
              "      <th>ML Model</th>\n",
              "      <th>Train Accuracy</th>\n",
              "      <th>Test Accuracy</th>\n",
              "    </tr>\n",
              "  </thead>\n",
              "  <tbody>\n",
              "    <tr>\n",
              "      <th>0</th>\n",
              "      <td>Decision Tree</td>\n",
              "      <td>0.924</td>\n",
              "      <td>0.916</td>\n",
              "    </tr>\n",
              "    <tr>\n",
              "      <th>1</th>\n",
              "      <td>Logistic Regression</td>\n",
              "      <td>0.929</td>\n",
              "      <td>0.923</td>\n",
              "    </tr>\n",
              "    <tr>\n",
              "      <th>2</th>\n",
              "      <td>Random Forest</td>\n",
              "      <td>0.935</td>\n",
              "      <td>0.926</td>\n",
              "    </tr>\n",
              "    <tr>\n",
              "      <th>3</th>\n",
              "      <td>Multilayer Perceptrons</td>\n",
              "      <td>0.989</td>\n",
              "      <td>0.962</td>\n",
              "    </tr>\n",
              "    <tr>\n",
              "      <th>4</th>\n",
              "      <td>XGBoost</td>\n",
              "      <td>0.990</td>\n",
              "      <td>0.967</td>\n",
              "    </tr>\n",
              "    <tr>\n",
              "      <th>5</th>\n",
              "      <td>SVM</td>\n",
              "      <td>0.929</td>\n",
              "      <td>0.923</td>\n",
              "    </tr>\n",
              "  </tbody>\n",
              "</table>\n",
              "</div>"
            ],
            "text/plain": [
              "                 ML Model  Train Accuracy  Test Accuracy\n",
              "0           Decision Tree           0.924          0.916\n",
              "1     Logistic Regression           0.929          0.923\n",
              "2           Random Forest           0.935          0.926\n",
              "3  Multilayer Perceptrons           0.989          0.962\n",
              "4                 XGBoost           0.990          0.967\n",
              "5                     SVM           0.929          0.923"
            ]
          },
          "metadata": {
            "tags": []
          },
          "execution_count": 49
        }
      ]
    },
    {
      "cell_type": "code",
      "metadata": {
        "id": "XyMyPNXXSbYZ",
        "colab_type": "code",
        "colab": {
          "base_uri": "https://localhost:8080/",
          "height": 225
        },
        "outputId": "c385227e-7c81-40f1-d44b-d16312fb27ed"
      },
      "source": [
        "#Sorting the datafram on accuracy\n",
        "results.sort_values(by=['Test Accuracy', 'Train Accuracy'], ascending=False)"
      ],
      "execution_count": 50,
      "outputs": [
        {
          "output_type": "execute_result",
          "data": {
            "text/html": [
              "<div>\n",
              "<style scoped>\n",
              "    .dataframe tbody tr th:only-of-type {\n",
              "        vertical-align: middle;\n",
              "    }\n",
              "\n",
              "    .dataframe tbody tr th {\n",
              "        vertical-align: top;\n",
              "    }\n",
              "\n",
              "    .dataframe thead th {\n",
              "        text-align: right;\n",
              "    }\n",
              "</style>\n",
              "<table border=\"1\" class=\"dataframe\">\n",
              "  <thead>\n",
              "    <tr style=\"text-align: right;\">\n",
              "      <th></th>\n",
              "      <th>ML Model</th>\n",
              "      <th>Train Accuracy</th>\n",
              "      <th>Test Accuracy</th>\n",
              "    </tr>\n",
              "  </thead>\n",
              "  <tbody>\n",
              "    <tr>\n",
              "      <th>4</th>\n",
              "      <td>XGBoost</td>\n",
              "      <td>0.990</td>\n",
              "      <td>0.967</td>\n",
              "    </tr>\n",
              "    <tr>\n",
              "      <th>3</th>\n",
              "      <td>Multilayer Perceptrons</td>\n",
              "      <td>0.989</td>\n",
              "      <td>0.962</td>\n",
              "    </tr>\n",
              "    <tr>\n",
              "      <th>2</th>\n",
              "      <td>Random Forest</td>\n",
              "      <td>0.935</td>\n",
              "      <td>0.926</td>\n",
              "    </tr>\n",
              "    <tr>\n",
              "      <th>1</th>\n",
              "      <td>Logistic Regression</td>\n",
              "      <td>0.929</td>\n",
              "      <td>0.923</td>\n",
              "    </tr>\n",
              "    <tr>\n",
              "      <th>5</th>\n",
              "      <td>SVM</td>\n",
              "      <td>0.929</td>\n",
              "      <td>0.923</td>\n",
              "    </tr>\n",
              "    <tr>\n",
              "      <th>0</th>\n",
              "      <td>Decision Tree</td>\n",
              "      <td>0.924</td>\n",
              "      <td>0.916</td>\n",
              "    </tr>\n",
              "  </tbody>\n",
              "</table>\n",
              "</div>"
            ],
            "text/plain": [
              "                 ML Model  Train Accuracy  Test Accuracy\n",
              "4                 XGBoost           0.990          0.967\n",
              "3  Multilayer Perceptrons           0.989          0.962\n",
              "2           Random Forest           0.935          0.926\n",
              "1     Logistic Regression           0.929          0.923\n",
              "5                     SVM           0.929          0.923\n",
              "0           Decision Tree           0.924          0.916"
            ]
          },
          "metadata": {
            "tags": []
          },
          "execution_count": 50
        }
      ]
    },
    {
      "cell_type": "code",
      "metadata": {
        "id": "ZzGiOGseSpKQ",
        "colab_type": "code",
        "colab": {}
      },
      "source": [
        "# save XGBoost model to file\n",
        "import pickle\n",
        "pickle.dump(xgb, open(\"/content/drive/My Drive/SUE/XGBoostClassifier.pickle.dat\", \"wb\"))"
      ],
      "execution_count": 51,
      "outputs": []
    },
    {
      "cell_type": "code",
      "metadata": {
        "id": "5ySh-qiRSye_",
        "colab_type": "code",
        "colab": {
          "base_uri": "https://localhost:8080/",
          "height": 134
        },
        "outputId": "9dcc6bc0-ab00-4e8e-e1e1-f96b8a7578b5"
      },
      "source": [
        "# load model from file\n",
        "loaded_model = pickle.load(open(\"/content/drive/My Drive/SUE/XGBoostClassifier.pickle.dat\", \"rb\"))\n",
        "loaded_model"
      ],
      "execution_count": 52,
      "outputs": [
        {
          "output_type": "execute_result",
          "data": {
            "text/plain": [
              "XGBClassifier(base_score=0.5, booster='gbtree', colsample_bylevel=1,\n",
              "              colsample_bynode=1, colsample_bytree=1, gamma=0,\n",
              "              learning_rate=0.4, max_delta_step=0, max_depth=7,\n",
              "              min_child_weight=1, missing=nan, n_estimators=100, n_jobs=1,\n",
              "              nthread=None, objective='binary:logistic', random_state=0,\n",
              "              reg_alpha=0, reg_lambda=1, scale_pos_weight=1, seed=None,\n",
              "              silent=None, subsample=1, verbosity=1)"
            ]
          },
          "metadata": {
            "tags": []
          },
          "execution_count": 52
        }
      ]
    }
  ]
}