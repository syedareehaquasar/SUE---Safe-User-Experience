{
  "nbformat": 4,
  "nbformat_minor": 0,
  "metadata": {
    "colab": {
      "name": "PhishingWebsiteDetectionModel.ipynb",
      "provenance": [],
      "collapsed_sections": [],
      "authorship_tag": "ABX9TyNWm7nWKuogveGdo7QEjxYr",
      "include_colab_link": true
    },
    "kernelspec": {
      "name": "python3",
      "display_name": "Python 3"
    }
  },
  "cells": [
    {
      "cell_type": "markdown",
      "metadata": {
        "id": "view-in-github",
        "colab_type": "text"
      },
      "source": [
        "<a href=\"https://colab.research.google.com/github/syedareehaquasar/SUE---Safe-User-Experience/blob/master/PhishingWebsiteDetectionModel.ipynb\" target=\"_parent\"><img src=\"https://colab.research.google.com/assets/colab-badge.svg\" alt=\"Open In Colab\"/></a>"
      ]
    },
    {
      "cell_type": "markdown",
      "metadata": {
        "id": "7yD4b7GPA8Yo",
        "colab_type": "text"
      },
      "source": [
        "**Phishing Website Detection ML model training**\n",
        "\n",
        "Designing model for creating phishing detection browser extension"
      ]
    },
    {
      "cell_type": "markdown",
      "metadata": {
        "id": "RaosJZvyBw-g",
        "colab_type": "text"
      },
      "source": [
        "**Loading Data**"
      ]
    },
    {
      "cell_type": "code",
      "metadata": {
        "id": "Y8luODJQAE8s",
        "colab_type": "code",
        "colab": {}
      },
      "source": [
        ""
      ],
      "execution_count": null,
      "outputs": []
    }
  ]
}